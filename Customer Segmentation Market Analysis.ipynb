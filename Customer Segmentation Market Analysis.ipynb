{
 "cells": [
  {
   "cell_type": "code",
   "execution_count": 1,
   "id": "cc5c87ee",
   "metadata": {},
   "outputs": [
    {
     "data": {
      "text/plain": [
       "'This is a Customer Segmentation Market Analysis'"
      ]
     },
     "execution_count": 1,
     "metadata": {},
     "output_type": "execute_result"
    }
   ],
   "source": [
    "\"\"\"This is a Customer Segmentation Market Analysis\"\"\""
   ]
  },
  {
   "cell_type": "code",
   "execution_count": 2,
   "id": "829e8f2c",
   "metadata": {},
   "outputs": [],
   "source": [
    "#importing important libraries\n",
    "import pandas as pd\n",
    "import numpy as np\n",
    "import seaborn as sns\n",
    "import matplotlib.pyplot as plt\n",
    "from sklearn.metrics import accuracy_score\n",
    "from sklearn.cluster import KMeans\n",
    "from sklearn.metrics import silhouette_score"
   ]
  },
  {
   "cell_type": "code",
   "execution_count": 3,
   "id": "647bcf90",
   "metadata": {},
   "outputs": [],
   "source": [
    "#Reading the training data into a dataframe\n",
    "df_train= pd.read_csv(\"C:/Users/HP/Downloads/archive (4)/avhacklive/Train.csv\")"
   ]
  },
  {
   "cell_type": "code",
   "execution_count": 4,
   "id": "eccd9cb5",
   "metadata": {},
   "outputs": [],
   "source": [
    "#Reading the test data into a dataframe\n",
    "df_test= pd.read_csv(\"C:/Users/HP/Downloads/archive (4)/avhacklive/Test.csv\")"
   ]
  },
  {
   "cell_type": "code",
   "execution_count": 5,
   "id": "e0d237ee",
   "metadata": {},
   "outputs": [
    {
     "data": {
      "text/html": [
       "<div>\n",
       "<style scoped>\n",
       "    .dataframe tbody tr th:only-of-type {\n",
       "        vertical-align: middle;\n",
       "    }\n",
       "\n",
       "    .dataframe tbody tr th {\n",
       "        vertical-align: top;\n",
       "    }\n",
       "\n",
       "    .dataframe thead th {\n",
       "        text-align: right;\n",
       "    }\n",
       "</style>\n",
       "<table border=\"1\" class=\"dataframe\">\n",
       "  <thead>\n",
       "    <tr style=\"text-align: right;\">\n",
       "      <th></th>\n",
       "      <th>id</th>\n",
       "      <th>customer_age</th>\n",
       "      <th>job_type</th>\n",
       "      <th>marital</th>\n",
       "      <th>education</th>\n",
       "      <th>default</th>\n",
       "      <th>balance</th>\n",
       "      <th>housing_loan</th>\n",
       "      <th>personal_loan</th>\n",
       "      <th>communication_type</th>\n",
       "      <th>day_of_month</th>\n",
       "      <th>month</th>\n",
       "      <th>last_contact_duration</th>\n",
       "      <th>num_contacts_in_campaign</th>\n",
       "      <th>days_since_prev_campaign_contact</th>\n",
       "      <th>num_contacts_prev_campaign</th>\n",
       "      <th>prev_campaign_outcome</th>\n",
       "      <th>term_deposit_subscribed</th>\n",
       "    </tr>\n",
       "  </thead>\n",
       "  <tbody>\n",
       "    <tr>\n",
       "      <th>0</th>\n",
       "      <td>id_43823</td>\n",
       "      <td>28.0</td>\n",
       "      <td>management</td>\n",
       "      <td>single</td>\n",
       "      <td>tertiary</td>\n",
       "      <td>no</td>\n",
       "      <td>285.0</td>\n",
       "      <td>yes</td>\n",
       "      <td>no</td>\n",
       "      <td>unknown</td>\n",
       "      <td>26</td>\n",
       "      <td>jun</td>\n",
       "      <td>303.0</td>\n",
       "      <td>4.0</td>\n",
       "      <td>NaN</td>\n",
       "      <td>0</td>\n",
       "      <td>unknown</td>\n",
       "      <td>0</td>\n",
       "    </tr>\n",
       "    <tr>\n",
       "      <th>1</th>\n",
       "      <td>id_32289</td>\n",
       "      <td>34.0</td>\n",
       "      <td>blue-collar</td>\n",
       "      <td>married</td>\n",
       "      <td>secondary</td>\n",
       "      <td>no</td>\n",
       "      <td>934.0</td>\n",
       "      <td>no</td>\n",
       "      <td>yes</td>\n",
       "      <td>cellular</td>\n",
       "      <td>18</td>\n",
       "      <td>nov</td>\n",
       "      <td>143.0</td>\n",
       "      <td>2.0</td>\n",
       "      <td>132.0</td>\n",
       "      <td>1</td>\n",
       "      <td>other</td>\n",
       "      <td>0</td>\n",
       "    </tr>\n",
       "    <tr>\n",
       "      <th>2</th>\n",
       "      <td>id_10523</td>\n",
       "      <td>46.0</td>\n",
       "      <td>technician</td>\n",
       "      <td>married</td>\n",
       "      <td>secondary</td>\n",
       "      <td>no</td>\n",
       "      <td>656.0</td>\n",
       "      <td>no</td>\n",
       "      <td>no</td>\n",
       "      <td>cellular</td>\n",
       "      <td>5</td>\n",
       "      <td>feb</td>\n",
       "      <td>101.0</td>\n",
       "      <td>4.0</td>\n",
       "      <td>NaN</td>\n",
       "      <td>0</td>\n",
       "      <td>unknown</td>\n",
       "      <td>0</td>\n",
       "    </tr>\n",
       "    <tr>\n",
       "      <th>3</th>\n",
       "      <td>id_43951</td>\n",
       "      <td>34.0</td>\n",
       "      <td>services</td>\n",
       "      <td>single</td>\n",
       "      <td>secondary</td>\n",
       "      <td>no</td>\n",
       "      <td>2.0</td>\n",
       "      <td>yes</td>\n",
       "      <td>no</td>\n",
       "      <td>unknown</td>\n",
       "      <td>20</td>\n",
       "      <td>may</td>\n",
       "      <td>127.0</td>\n",
       "      <td>3.0</td>\n",
       "      <td>NaN</td>\n",
       "      <td>0</td>\n",
       "      <td>unknown</td>\n",
       "      <td>0</td>\n",
       "    </tr>\n",
       "    <tr>\n",
       "      <th>4</th>\n",
       "      <td>id_40992</td>\n",
       "      <td>41.0</td>\n",
       "      <td>blue-collar</td>\n",
       "      <td>married</td>\n",
       "      <td>primary</td>\n",
       "      <td>no</td>\n",
       "      <td>1352.0</td>\n",
       "      <td>yes</td>\n",
       "      <td>no</td>\n",
       "      <td>cellular</td>\n",
       "      <td>13</td>\n",
       "      <td>may</td>\n",
       "      <td>49.0</td>\n",
       "      <td>2.0</td>\n",
       "      <td>NaN</td>\n",
       "      <td>0</td>\n",
       "      <td>unknown</td>\n",
       "      <td>0</td>\n",
       "    </tr>\n",
       "  </tbody>\n",
       "</table>\n",
       "</div>"
      ],
      "text/plain": [
       "         id  customer_age     job_type  marital  education default  balance  \\\n",
       "0  id_43823          28.0   management   single   tertiary      no    285.0   \n",
       "1  id_32289          34.0  blue-collar  married  secondary      no    934.0   \n",
       "2  id_10523          46.0   technician  married  secondary      no    656.0   \n",
       "3  id_43951          34.0     services   single  secondary      no      2.0   \n",
       "4  id_40992          41.0  blue-collar  married    primary      no   1352.0   \n",
       "\n",
       "  housing_loan personal_loan communication_type  day_of_month month  \\\n",
       "0          yes            no            unknown            26   jun   \n",
       "1           no           yes           cellular            18   nov   \n",
       "2           no            no           cellular             5   feb   \n",
       "3          yes            no            unknown            20   may   \n",
       "4          yes            no           cellular            13   may   \n",
       "\n",
       "   last_contact_duration  num_contacts_in_campaign  \\\n",
       "0                  303.0                       4.0   \n",
       "1                  143.0                       2.0   \n",
       "2                  101.0                       4.0   \n",
       "3                  127.0                       3.0   \n",
       "4                   49.0                       2.0   \n",
       "\n",
       "   days_since_prev_campaign_contact  num_contacts_prev_campaign  \\\n",
       "0                               NaN                           0   \n",
       "1                             132.0                           1   \n",
       "2                               NaN                           0   \n",
       "3                               NaN                           0   \n",
       "4                               NaN                           0   \n",
       "\n",
       "  prev_campaign_outcome  term_deposit_subscribed  \n",
       "0               unknown                        0  \n",
       "1                 other                        0  \n",
       "2               unknown                        0  \n",
       "3               unknown                        0  \n",
       "4               unknown                        0  "
      ]
     },
     "execution_count": 5,
     "metadata": {},
     "output_type": "execute_result"
    }
   ],
   "source": [
    "#checking the first five rows of the training set\n",
    "df_train.head()"
   ]
  },
  {
   "cell_type": "code",
   "execution_count": 6,
   "id": "ad1761c0",
   "metadata": {},
   "outputs": [
    {
     "data": {
      "text/html": [
       "<div>\n",
       "<style scoped>\n",
       "    .dataframe tbody tr th:only-of-type {\n",
       "        vertical-align: middle;\n",
       "    }\n",
       "\n",
       "    .dataframe tbody tr th {\n",
       "        vertical-align: top;\n",
       "    }\n",
       "\n",
       "    .dataframe thead th {\n",
       "        text-align: right;\n",
       "    }\n",
       "</style>\n",
       "<table border=\"1\" class=\"dataframe\">\n",
       "  <thead>\n",
       "    <tr style=\"text-align: right;\">\n",
       "      <th></th>\n",
       "      <th>id</th>\n",
       "      <th>customer_age</th>\n",
       "      <th>job_type</th>\n",
       "      <th>marital</th>\n",
       "      <th>education</th>\n",
       "      <th>default</th>\n",
       "      <th>balance</th>\n",
       "      <th>housing_loan</th>\n",
       "      <th>personal_loan</th>\n",
       "      <th>communication_type</th>\n",
       "      <th>day_of_month</th>\n",
       "      <th>month</th>\n",
       "      <th>last_contact_duration</th>\n",
       "      <th>num_contacts_in_campaign</th>\n",
       "      <th>days_since_prev_campaign_contact</th>\n",
       "      <th>num_contacts_prev_campaign</th>\n",
       "      <th>prev_campaign_outcome</th>\n",
       "    </tr>\n",
       "  </thead>\n",
       "  <tbody>\n",
       "    <tr>\n",
       "      <th>0</th>\n",
       "      <td>id_17231</td>\n",
       "      <td>55.0</td>\n",
       "      <td>retired</td>\n",
       "      <td>married</td>\n",
       "      <td>tertiary</td>\n",
       "      <td>no</td>\n",
       "      <td>7136.0</td>\n",
       "      <td>no</td>\n",
       "      <td>no</td>\n",
       "      <td>cellular</td>\n",
       "      <td>13</td>\n",
       "      <td>aug</td>\n",
       "      <td>90.0</td>\n",
       "      <td>2.0</td>\n",
       "      <td>NaN</td>\n",
       "      <td>0</td>\n",
       "      <td>unknown</td>\n",
       "    </tr>\n",
       "    <tr>\n",
       "      <th>1</th>\n",
       "      <td>id_34508</td>\n",
       "      <td>24.0</td>\n",
       "      <td>blue-collar</td>\n",
       "      <td>single</td>\n",
       "      <td>secondary</td>\n",
       "      <td>no</td>\n",
       "      <td>179.0</td>\n",
       "      <td>yes</td>\n",
       "      <td>no</td>\n",
       "      <td>cellular</td>\n",
       "      <td>18</td>\n",
       "      <td>may</td>\n",
       "      <td>63.0</td>\n",
       "      <td>2.0</td>\n",
       "      <td>NaN</td>\n",
       "      <td>0</td>\n",
       "      <td>unknown</td>\n",
       "    </tr>\n",
       "    <tr>\n",
       "      <th>2</th>\n",
       "      <td>id_44504</td>\n",
       "      <td>46.0</td>\n",
       "      <td>technician</td>\n",
       "      <td>divorced</td>\n",
       "      <td>secondary</td>\n",
       "      <td>no</td>\n",
       "      <td>143.0</td>\n",
       "      <td>no</td>\n",
       "      <td>no</td>\n",
       "      <td>cellular</td>\n",
       "      <td>8</td>\n",
       "      <td>jul</td>\n",
       "      <td>208.0</td>\n",
       "      <td>1.0</td>\n",
       "      <td>NaN</td>\n",
       "      <td>0</td>\n",
       "      <td>unknown</td>\n",
       "    </tr>\n",
       "    <tr>\n",
       "      <th>3</th>\n",
       "      <td>id_174</td>\n",
       "      <td>56.0</td>\n",
       "      <td>housemaid</td>\n",
       "      <td>single</td>\n",
       "      <td>unknown</td>\n",
       "      <td>no</td>\n",
       "      <td>6023.0</td>\n",
       "      <td>no</td>\n",
       "      <td>no</td>\n",
       "      <td>unknown</td>\n",
       "      <td>6</td>\n",
       "      <td>jun</td>\n",
       "      <td>34.0</td>\n",
       "      <td>1.0</td>\n",
       "      <td>NaN</td>\n",
       "      <td>0</td>\n",
       "      <td>unknown</td>\n",
       "    </tr>\n",
       "    <tr>\n",
       "      <th>4</th>\n",
       "      <td>id_2115</td>\n",
       "      <td>62.0</td>\n",
       "      <td>retired</td>\n",
       "      <td>married</td>\n",
       "      <td>secondary</td>\n",
       "      <td>no</td>\n",
       "      <td>2913.0</td>\n",
       "      <td>no</td>\n",
       "      <td>no</td>\n",
       "      <td>cellular</td>\n",
       "      <td>12</td>\n",
       "      <td>apr</td>\n",
       "      <td>127.0</td>\n",
       "      <td>1.0</td>\n",
       "      <td>188.0</td>\n",
       "      <td>1</td>\n",
       "      <td>success</td>\n",
       "    </tr>\n",
       "  </tbody>\n",
       "</table>\n",
       "</div>"
      ],
      "text/plain": [
       "         id  customer_age     job_type   marital  education default  balance  \\\n",
       "0  id_17231          55.0      retired   married   tertiary      no   7136.0   \n",
       "1  id_34508          24.0  blue-collar    single  secondary      no    179.0   \n",
       "2  id_44504          46.0   technician  divorced  secondary      no    143.0   \n",
       "3    id_174          56.0    housemaid    single    unknown      no   6023.0   \n",
       "4   id_2115          62.0      retired   married  secondary      no   2913.0   \n",
       "\n",
       "  housing_loan personal_loan communication_type  day_of_month month  \\\n",
       "0           no            no           cellular            13   aug   \n",
       "1          yes            no           cellular            18   may   \n",
       "2           no            no           cellular             8   jul   \n",
       "3           no            no            unknown             6   jun   \n",
       "4           no            no           cellular            12   apr   \n",
       "\n",
       "   last_contact_duration  num_contacts_in_campaign  \\\n",
       "0                   90.0                       2.0   \n",
       "1                   63.0                       2.0   \n",
       "2                  208.0                       1.0   \n",
       "3                   34.0                       1.0   \n",
       "4                  127.0                       1.0   \n",
       "\n",
       "   days_since_prev_campaign_contact  num_contacts_prev_campaign  \\\n",
       "0                               NaN                           0   \n",
       "1                               NaN                           0   \n",
       "2                               NaN                           0   \n",
       "3                               NaN                           0   \n",
       "4                             188.0                           1   \n",
       "\n",
       "  prev_campaign_outcome  \n",
       "0               unknown  \n",
       "1               unknown  \n",
       "2               unknown  \n",
       "3               unknown  \n",
       "4               success  "
      ]
     },
     "execution_count": 6,
     "metadata": {},
     "output_type": "execute_result"
    }
   ],
   "source": [
    "#checking the first five rows of the test set\n",
    "df_test.head()"
   ]
  },
  {
   "cell_type": "code",
   "execution_count": 7,
   "id": "fc8877d9",
   "metadata": {},
   "outputs": [
    {
     "name": "stdout",
     "output_type": "stream",
     "text": [
      "<class 'pandas.core.frame.DataFrame'>\n",
      "RangeIndex: 31647 entries, 0 to 31646\n",
      "Data columns (total 18 columns):\n",
      " #   Column                            Non-Null Count  Dtype  \n",
      "---  ------                            --------------  -----  \n",
      " 0   id                                31647 non-null  object \n",
      " 1   customer_age                      31028 non-null  float64\n",
      " 2   job_type                          31647 non-null  object \n",
      " 3   marital                           31497 non-null  object \n",
      " 4   education                         31647 non-null  object \n",
      " 5   default                           31647 non-null  object \n",
      " 6   balance                           31248 non-null  float64\n",
      " 7   housing_loan                      31647 non-null  object \n",
      " 8   personal_loan                     31498 non-null  object \n",
      " 9   communication_type                31647 non-null  object \n",
      " 10  day_of_month                      31647 non-null  int64  \n",
      " 11  month                             31647 non-null  object \n",
      " 12  last_contact_duration             31336 non-null  float64\n",
      " 13  num_contacts_in_campaign          31535 non-null  float64\n",
      " 14  days_since_prev_campaign_contact  5816 non-null   float64\n",
      " 15  num_contacts_prev_campaign        31647 non-null  int64  \n",
      " 16  prev_campaign_outcome             31647 non-null  object \n",
      " 17  term_deposit_subscribed           31647 non-null  int64  \n",
      "dtypes: float64(5), int64(3), object(10)\n",
      "memory usage: 4.3+ MB\n"
     ]
    }
   ],
   "source": [
    "#checking the info of the training set\n",
    "df_train.info()"
   ]
  },
  {
   "cell_type": "code",
   "execution_count": 8,
   "id": "de77d19e",
   "metadata": {},
   "outputs": [
    {
     "name": "stdout",
     "output_type": "stream",
     "text": [
      "<class 'pandas.core.frame.DataFrame'>\n",
      "RangeIndex: 13564 entries, 0 to 13563\n",
      "Data columns (total 17 columns):\n",
      " #   Column                            Non-Null Count  Dtype  \n",
      "---  ------                            --------------  -----  \n",
      " 0   id                                13564 non-null  object \n",
      " 1   customer_age                      13294 non-null  float64\n",
      " 2   job_type                          13564 non-null  object \n",
      " 3   marital                           13483 non-null  object \n",
      " 4   education                         13564 non-null  object \n",
      " 5   default                           13564 non-null  object \n",
      " 6   balance                           13383 non-null  float64\n",
      " 7   housing_loan                      13564 non-null  object \n",
      " 8   personal_loan                     13490 non-null  object \n",
      " 9   communication_type                13564 non-null  object \n",
      " 10  day_of_month                      13564 non-null  int64  \n",
      " 11  month                             13564 non-null  object \n",
      " 12  last_contact_duration             13442 non-null  float64\n",
      " 13  num_contacts_in_campaign          13519 non-null  float64\n",
      " 14  days_since_prev_campaign_contact  2441 non-null   float64\n",
      " 15  num_contacts_prev_campaign        13564 non-null  int64  \n",
      " 16  prev_campaign_outcome             13564 non-null  object \n",
      "dtypes: float64(5), int64(2), object(10)\n",
      "memory usage: 1.8+ MB\n"
     ]
    }
   ],
   "source": [
    "#checking the info of the test set\n",
    "df_test.info()"
   ]
  },
  {
   "cell_type": "code",
   "execution_count": 9,
   "id": "692c0b8f",
   "metadata": {},
   "outputs": [
    {
     "data": {
      "text/plain": [
       "\"From the displayed information of the Training and Test set, we can observe that 'term_deposit_subscribed' which is present in the training set is not in the test set. Thus, we drop the column\""
      ]
     },
     "execution_count": 9,
     "metadata": {},
     "output_type": "execute_result"
    }
   ],
   "source": [
    "\"\"\"From the displayed information of the Training and Test set, we can observe that 'term_deposit_subscribed' which is present in the training set is not in the test set. Thus, we drop the column\"\"\""
   ]
  },
  {
   "cell_type": "code",
   "execution_count": 10,
   "id": "ace1ee26",
   "metadata": {},
   "outputs": [],
   "source": [
    "#dropping the 'term_deposit_subscribed' column\n",
    "df_train.drop(columns=[\"term_deposit_subscribed\"], inplace=True)"
   ]
  },
  {
   "cell_type": "code",
   "execution_count": 11,
   "id": "8a195eb5",
   "metadata": {},
   "outputs": [
    {
     "data": {
      "text/html": [
       "<div>\n",
       "<style scoped>\n",
       "    .dataframe tbody tr th:only-of-type {\n",
       "        vertical-align: middle;\n",
       "    }\n",
       "\n",
       "    .dataframe tbody tr th {\n",
       "        vertical-align: top;\n",
       "    }\n",
       "\n",
       "    .dataframe thead th {\n",
       "        text-align: right;\n",
       "    }\n",
       "</style>\n",
       "<table border=\"1\" class=\"dataframe\">\n",
       "  <thead>\n",
       "    <tr style=\"text-align: right;\">\n",
       "      <th></th>\n",
       "      <th>id</th>\n",
       "      <th>customer_age</th>\n",
       "      <th>job_type</th>\n",
       "      <th>marital</th>\n",
       "      <th>education</th>\n",
       "      <th>default</th>\n",
       "      <th>balance</th>\n",
       "      <th>housing_loan</th>\n",
       "      <th>personal_loan</th>\n",
       "      <th>communication_type</th>\n",
       "      <th>day_of_month</th>\n",
       "      <th>month</th>\n",
       "      <th>last_contact_duration</th>\n",
       "      <th>num_contacts_in_campaign</th>\n",
       "      <th>days_since_prev_campaign_contact</th>\n",
       "      <th>num_contacts_prev_campaign</th>\n",
       "      <th>prev_campaign_outcome</th>\n",
       "    </tr>\n",
       "  </thead>\n",
       "  <tbody>\n",
       "    <tr>\n",
       "      <th>0</th>\n",
       "      <td>id_43823</td>\n",
       "      <td>28.0</td>\n",
       "      <td>management</td>\n",
       "      <td>single</td>\n",
       "      <td>tertiary</td>\n",
       "      <td>no</td>\n",
       "      <td>285.0</td>\n",
       "      <td>yes</td>\n",
       "      <td>no</td>\n",
       "      <td>unknown</td>\n",
       "      <td>26</td>\n",
       "      <td>jun</td>\n",
       "      <td>303.0</td>\n",
       "      <td>4.0</td>\n",
       "      <td>NaN</td>\n",
       "      <td>0</td>\n",
       "      <td>unknown</td>\n",
       "    </tr>\n",
       "    <tr>\n",
       "      <th>1</th>\n",
       "      <td>id_32289</td>\n",
       "      <td>34.0</td>\n",
       "      <td>blue-collar</td>\n",
       "      <td>married</td>\n",
       "      <td>secondary</td>\n",
       "      <td>no</td>\n",
       "      <td>934.0</td>\n",
       "      <td>no</td>\n",
       "      <td>yes</td>\n",
       "      <td>cellular</td>\n",
       "      <td>18</td>\n",
       "      <td>nov</td>\n",
       "      <td>143.0</td>\n",
       "      <td>2.0</td>\n",
       "      <td>132.0</td>\n",
       "      <td>1</td>\n",
       "      <td>other</td>\n",
       "    </tr>\n",
       "    <tr>\n",
       "      <th>2</th>\n",
       "      <td>id_10523</td>\n",
       "      <td>46.0</td>\n",
       "      <td>technician</td>\n",
       "      <td>married</td>\n",
       "      <td>secondary</td>\n",
       "      <td>no</td>\n",
       "      <td>656.0</td>\n",
       "      <td>no</td>\n",
       "      <td>no</td>\n",
       "      <td>cellular</td>\n",
       "      <td>5</td>\n",
       "      <td>feb</td>\n",
       "      <td>101.0</td>\n",
       "      <td>4.0</td>\n",
       "      <td>NaN</td>\n",
       "      <td>0</td>\n",
       "      <td>unknown</td>\n",
       "    </tr>\n",
       "    <tr>\n",
       "      <th>3</th>\n",
       "      <td>id_43951</td>\n",
       "      <td>34.0</td>\n",
       "      <td>services</td>\n",
       "      <td>single</td>\n",
       "      <td>secondary</td>\n",
       "      <td>no</td>\n",
       "      <td>2.0</td>\n",
       "      <td>yes</td>\n",
       "      <td>no</td>\n",
       "      <td>unknown</td>\n",
       "      <td>20</td>\n",
       "      <td>may</td>\n",
       "      <td>127.0</td>\n",
       "      <td>3.0</td>\n",
       "      <td>NaN</td>\n",
       "      <td>0</td>\n",
       "      <td>unknown</td>\n",
       "    </tr>\n",
       "    <tr>\n",
       "      <th>4</th>\n",
       "      <td>id_40992</td>\n",
       "      <td>41.0</td>\n",
       "      <td>blue-collar</td>\n",
       "      <td>married</td>\n",
       "      <td>primary</td>\n",
       "      <td>no</td>\n",
       "      <td>1352.0</td>\n",
       "      <td>yes</td>\n",
       "      <td>no</td>\n",
       "      <td>cellular</td>\n",
       "      <td>13</td>\n",
       "      <td>may</td>\n",
       "      <td>49.0</td>\n",
       "      <td>2.0</td>\n",
       "      <td>NaN</td>\n",
       "      <td>0</td>\n",
       "      <td>unknown</td>\n",
       "    </tr>\n",
       "  </tbody>\n",
       "</table>\n",
       "</div>"
      ],
      "text/plain": [
       "         id  customer_age     job_type  marital  education default  balance  \\\n",
       "0  id_43823          28.0   management   single   tertiary      no    285.0   \n",
       "1  id_32289          34.0  blue-collar  married  secondary      no    934.0   \n",
       "2  id_10523          46.0   technician  married  secondary      no    656.0   \n",
       "3  id_43951          34.0     services   single  secondary      no      2.0   \n",
       "4  id_40992          41.0  blue-collar  married    primary      no   1352.0   \n",
       "\n",
       "  housing_loan personal_loan communication_type  day_of_month month  \\\n",
       "0          yes            no            unknown            26   jun   \n",
       "1           no           yes           cellular            18   nov   \n",
       "2           no            no           cellular             5   feb   \n",
       "3          yes            no            unknown            20   may   \n",
       "4          yes            no           cellular            13   may   \n",
       "\n",
       "   last_contact_duration  num_contacts_in_campaign  \\\n",
       "0                  303.0                       4.0   \n",
       "1                  143.0                       2.0   \n",
       "2                  101.0                       4.0   \n",
       "3                  127.0                       3.0   \n",
       "4                   49.0                       2.0   \n",
       "\n",
       "   days_since_prev_campaign_contact  num_contacts_prev_campaign  \\\n",
       "0                               NaN                           0   \n",
       "1                             132.0                           1   \n",
       "2                               NaN                           0   \n",
       "3                               NaN                           0   \n",
       "4                               NaN                           0   \n",
       "\n",
       "  prev_campaign_outcome  \n",
       "0               unknown  \n",
       "1                 other  \n",
       "2               unknown  \n",
       "3               unknown  \n",
       "4               unknown  "
      ]
     },
     "execution_count": 11,
     "metadata": {},
     "output_type": "execute_result"
    }
   ],
   "source": [
    "#checking the training set again\n",
    "df_train.head()"
   ]
  },
  {
   "cell_type": "code",
   "execution_count": 12,
   "id": "465722d8",
   "metadata": {},
   "outputs": [
    {
     "name": "stdout",
     "output_type": "stream",
     "text": [
      "id                                   object\n",
      "customer_age                        float64\n",
      "job_type                             object\n",
      "marital                              object\n",
      "education                            object\n",
      "default                              object\n",
      "balance                             float64\n",
      "housing_loan                         object\n",
      "personal_loan                        object\n",
      "communication_type                   object\n",
      "day_of_month                          int64\n",
      "month                                object\n",
      "last_contact_duration               float64\n",
      "num_contacts_in_campaign            float64\n",
      "days_since_prev_campaign_contact    float64\n",
      "num_contacts_prev_campaign            int64\n",
      "prev_campaign_outcome                object\n",
      "dtype: object\n"
     ]
    }
   ],
   "source": [
    "#checking the types of data in the training set\n",
    "print(df_train.dtypes)"
   ]
  },
  {
   "cell_type": "code",
   "execution_count": 13,
   "id": "7b017beb",
   "metadata": {},
   "outputs": [
    {
     "name": "stdout",
     "output_type": "stream",
     "text": [
      "id                                   object\n",
      "customer_age                        float64\n",
      "job_type                             object\n",
      "marital                              object\n",
      "education                            object\n",
      "default                              object\n",
      "balance                             float64\n",
      "housing_loan                         object\n",
      "personal_loan                        object\n",
      "communication_type                   object\n",
      "day_of_month                          int64\n",
      "month                                object\n",
      "last_contact_duration               float64\n",
      "num_contacts_in_campaign            float64\n",
      "days_since_prev_campaign_contact    float64\n",
      "num_contacts_prev_campaign            int64\n",
      "prev_campaign_outcome                object\n",
      "dtype: object\n"
     ]
    }
   ],
   "source": [
    "#checking the types of data in the test set\n",
    "print(df_test.dtypes)"
   ]
  },
  {
   "cell_type": "code",
   "execution_count": 14,
   "id": "e24d0a3b",
   "metadata": {},
   "outputs": [],
   "source": [
    "#creating a function to print missing values\n",
    "def get_MissingValues(df):\n",
    "    cols = []\n",
    "    column_with_nan = df.columns[df.isnull().any()]\n",
    "    for column in column_with_nan:\n",
    "        percent_missing = round(df[column].isnull().mean()*100,2)        \n",
    "        cols.append({'colname':column,'percentage':percent_missing,'featureDtype':str(df[column].dtype)})  \n",
    "    \n",
    "    if len(cols) > 0:     \n",
    "        # Creates DataFrame. \n",
    "        print(f'{len(cols)} features have missing value')\n",
    "        missingDF = pd.DataFrame(cols).sort_values(by=['percentage'], ascending=False)\n",
    "    else:\n",
    "        missingDF = \"No missingValues\"\n",
    "        \n",
    "    return missingDF"
   ]
  },
  {
   "cell_type": "code",
   "execution_count": 15,
   "id": "7c695b2d",
   "metadata": {},
   "outputs": [
    {
     "name": "stdout",
     "output_type": "stream",
     "text": [
      "7 features have missing value\n"
     ]
    },
    {
     "data": {
      "text/html": [
       "<div>\n",
       "<style scoped>\n",
       "    .dataframe tbody tr th:only-of-type {\n",
       "        vertical-align: middle;\n",
       "    }\n",
       "\n",
       "    .dataframe tbody tr th {\n",
       "        vertical-align: top;\n",
       "    }\n",
       "\n",
       "    .dataframe thead th {\n",
       "        text-align: right;\n",
       "    }\n",
       "</style>\n",
       "<table border=\"1\" class=\"dataframe\">\n",
       "  <thead>\n",
       "    <tr style=\"text-align: right;\">\n",
       "      <th></th>\n",
       "      <th>colname</th>\n",
       "      <th>percentage</th>\n",
       "      <th>featureDtype</th>\n",
       "    </tr>\n",
       "  </thead>\n",
       "  <tbody>\n",
       "    <tr>\n",
       "      <th>6</th>\n",
       "      <td>days_since_prev_campaign_contact</td>\n",
       "      <td>81.62</td>\n",
       "      <td>float64</td>\n",
       "    </tr>\n",
       "    <tr>\n",
       "      <th>0</th>\n",
       "      <td>customer_age</td>\n",
       "      <td>1.96</td>\n",
       "      <td>float64</td>\n",
       "    </tr>\n",
       "    <tr>\n",
       "      <th>2</th>\n",
       "      <td>balance</td>\n",
       "      <td>1.26</td>\n",
       "      <td>float64</td>\n",
       "    </tr>\n",
       "    <tr>\n",
       "      <th>4</th>\n",
       "      <td>last_contact_duration</td>\n",
       "      <td>0.98</td>\n",
       "      <td>float64</td>\n",
       "    </tr>\n",
       "    <tr>\n",
       "      <th>1</th>\n",
       "      <td>marital</td>\n",
       "      <td>0.47</td>\n",
       "      <td>object</td>\n",
       "    </tr>\n",
       "    <tr>\n",
       "      <th>3</th>\n",
       "      <td>personal_loan</td>\n",
       "      <td>0.47</td>\n",
       "      <td>object</td>\n",
       "    </tr>\n",
       "    <tr>\n",
       "      <th>5</th>\n",
       "      <td>num_contacts_in_campaign</td>\n",
       "      <td>0.35</td>\n",
       "      <td>float64</td>\n",
       "    </tr>\n",
       "  </tbody>\n",
       "</table>\n",
       "</div>"
      ],
      "text/plain": [
       "                            colname  percentage featureDtype\n",
       "6  days_since_prev_campaign_contact       81.62      float64\n",
       "0                      customer_age        1.96      float64\n",
       "2                           balance        1.26      float64\n",
       "4             last_contact_duration        0.98      float64\n",
       "1                           marital        0.47       object\n",
       "3                     personal_loan        0.47       object\n",
       "5          num_contacts_in_campaign        0.35      float64"
      ]
     },
     "execution_count": 15,
     "metadata": {},
     "output_type": "execute_result"
    }
   ],
   "source": [
    "#handling missing values in training dataset\n",
    "df_train_missing = get_MissingValues(df_train)\n",
    "df_train_missing.head(df_train_missing.shape[0])"
   ]
  },
  {
   "cell_type": "code",
   "execution_count": 16,
   "id": "27d4672a",
   "metadata": {},
   "outputs": [
    {
     "name": "stdout",
     "output_type": "stream",
     "text": [
      "7 features have missing value\n"
     ]
    },
    {
     "data": {
      "text/html": [
       "<div>\n",
       "<style scoped>\n",
       "    .dataframe tbody tr th:only-of-type {\n",
       "        vertical-align: middle;\n",
       "    }\n",
       "\n",
       "    .dataframe tbody tr th {\n",
       "        vertical-align: top;\n",
       "    }\n",
       "\n",
       "    .dataframe thead th {\n",
       "        text-align: right;\n",
       "    }\n",
       "</style>\n",
       "<table border=\"1\" class=\"dataframe\">\n",
       "  <thead>\n",
       "    <tr style=\"text-align: right;\">\n",
       "      <th></th>\n",
       "      <th>colname</th>\n",
       "      <th>percentage</th>\n",
       "      <th>featureDtype</th>\n",
       "    </tr>\n",
       "  </thead>\n",
       "  <tbody>\n",
       "    <tr>\n",
       "      <th>6</th>\n",
       "      <td>days_since_prev_campaign_contact</td>\n",
       "      <td>82.00</td>\n",
       "      <td>float64</td>\n",
       "    </tr>\n",
       "    <tr>\n",
       "      <th>0</th>\n",
       "      <td>customer_age</td>\n",
       "      <td>1.99</td>\n",
       "      <td>float64</td>\n",
       "    </tr>\n",
       "    <tr>\n",
       "      <th>2</th>\n",
       "      <td>balance</td>\n",
       "      <td>1.33</td>\n",
       "      <td>float64</td>\n",
       "    </tr>\n",
       "    <tr>\n",
       "      <th>4</th>\n",
       "      <td>last_contact_duration</td>\n",
       "      <td>0.90</td>\n",
       "      <td>float64</td>\n",
       "    </tr>\n",
       "    <tr>\n",
       "      <th>1</th>\n",
       "      <td>marital</td>\n",
       "      <td>0.60</td>\n",
       "      <td>object</td>\n",
       "    </tr>\n",
       "    <tr>\n",
       "      <th>3</th>\n",
       "      <td>personal_loan</td>\n",
       "      <td>0.55</td>\n",
       "      <td>object</td>\n",
       "    </tr>\n",
       "    <tr>\n",
       "      <th>5</th>\n",
       "      <td>num_contacts_in_campaign</td>\n",
       "      <td>0.33</td>\n",
       "      <td>float64</td>\n",
       "    </tr>\n",
       "  </tbody>\n",
       "</table>\n",
       "</div>"
      ],
      "text/plain": [
       "                            colname  percentage featureDtype\n",
       "6  days_since_prev_campaign_contact       82.00      float64\n",
       "0                      customer_age        1.99      float64\n",
       "2                           balance        1.33      float64\n",
       "4             last_contact_duration        0.90      float64\n",
       "1                           marital        0.60       object\n",
       "3                     personal_loan        0.55       object\n",
       "5          num_contacts_in_campaign        0.33      float64"
      ]
     },
     "execution_count": 16,
     "metadata": {},
     "output_type": "execute_result"
    }
   ],
   "source": [
    "#handling missing values in test dataset\n",
    "df_test_missing = get_MissingValues(df_test)\n",
    "df_test_missing.head(df_test_missing.shape[0])"
   ]
  },
  {
   "cell_type": "code",
   "execution_count": 17,
   "id": "20191504",
   "metadata": {},
   "outputs": [
    {
     "data": {
      "text/plain": [
       "\"From the analysis above we can see that 'days_since_prev_campaign_contact' has over 80% nan values in both training and test set, Thus, we drop the column\""
      ]
     },
     "execution_count": 17,
     "metadata": {},
     "output_type": "execute_result"
    }
   ],
   "source": [
    "\"\"\"From the analysis above we can see that 'days_since_prev_campaign_contact' has over 80% nan values in both training and test set, Thus, we drop the column\"\"\""
   ]
  },
  {
   "cell_type": "code",
   "execution_count": 18,
   "id": "789cce84",
   "metadata": {},
   "outputs": [],
   "source": [
    "#dropping the 'days_since_prev_campaign_contact' column in training dataset\n",
    "df_train.drop(columns=[\"days_since_prev_campaign_contact\"], inplace=True)"
   ]
  },
  {
   "cell_type": "code",
   "execution_count": 19,
   "id": "8862ea9e",
   "metadata": {},
   "outputs": [
    {
     "data": {
      "text/html": [
       "<div>\n",
       "<style scoped>\n",
       "    .dataframe tbody tr th:only-of-type {\n",
       "        vertical-align: middle;\n",
       "    }\n",
       "\n",
       "    .dataframe tbody tr th {\n",
       "        vertical-align: top;\n",
       "    }\n",
       "\n",
       "    .dataframe thead th {\n",
       "        text-align: right;\n",
       "    }\n",
       "</style>\n",
       "<table border=\"1\" class=\"dataframe\">\n",
       "  <thead>\n",
       "    <tr style=\"text-align: right;\">\n",
       "      <th></th>\n",
       "      <th>id</th>\n",
       "      <th>customer_age</th>\n",
       "      <th>job_type</th>\n",
       "      <th>marital</th>\n",
       "      <th>education</th>\n",
       "      <th>default</th>\n",
       "      <th>balance</th>\n",
       "      <th>housing_loan</th>\n",
       "      <th>personal_loan</th>\n",
       "      <th>communication_type</th>\n",
       "      <th>day_of_month</th>\n",
       "      <th>month</th>\n",
       "      <th>last_contact_duration</th>\n",
       "      <th>num_contacts_in_campaign</th>\n",
       "      <th>num_contacts_prev_campaign</th>\n",
       "      <th>prev_campaign_outcome</th>\n",
       "    </tr>\n",
       "  </thead>\n",
       "  <tbody>\n",
       "    <tr>\n",
       "      <th>0</th>\n",
       "      <td>id_43823</td>\n",
       "      <td>28.0</td>\n",
       "      <td>management</td>\n",
       "      <td>single</td>\n",
       "      <td>tertiary</td>\n",
       "      <td>no</td>\n",
       "      <td>285.0</td>\n",
       "      <td>yes</td>\n",
       "      <td>no</td>\n",
       "      <td>unknown</td>\n",
       "      <td>26</td>\n",
       "      <td>jun</td>\n",
       "      <td>303.0</td>\n",
       "      <td>4.0</td>\n",
       "      <td>0</td>\n",
       "      <td>unknown</td>\n",
       "    </tr>\n",
       "    <tr>\n",
       "      <th>1</th>\n",
       "      <td>id_32289</td>\n",
       "      <td>34.0</td>\n",
       "      <td>blue-collar</td>\n",
       "      <td>married</td>\n",
       "      <td>secondary</td>\n",
       "      <td>no</td>\n",
       "      <td>934.0</td>\n",
       "      <td>no</td>\n",
       "      <td>yes</td>\n",
       "      <td>cellular</td>\n",
       "      <td>18</td>\n",
       "      <td>nov</td>\n",
       "      <td>143.0</td>\n",
       "      <td>2.0</td>\n",
       "      <td>1</td>\n",
       "      <td>other</td>\n",
       "    </tr>\n",
       "    <tr>\n",
       "      <th>2</th>\n",
       "      <td>id_10523</td>\n",
       "      <td>46.0</td>\n",
       "      <td>technician</td>\n",
       "      <td>married</td>\n",
       "      <td>secondary</td>\n",
       "      <td>no</td>\n",
       "      <td>656.0</td>\n",
       "      <td>no</td>\n",
       "      <td>no</td>\n",
       "      <td>cellular</td>\n",
       "      <td>5</td>\n",
       "      <td>feb</td>\n",
       "      <td>101.0</td>\n",
       "      <td>4.0</td>\n",
       "      <td>0</td>\n",
       "      <td>unknown</td>\n",
       "    </tr>\n",
       "    <tr>\n",
       "      <th>3</th>\n",
       "      <td>id_43951</td>\n",
       "      <td>34.0</td>\n",
       "      <td>services</td>\n",
       "      <td>single</td>\n",
       "      <td>secondary</td>\n",
       "      <td>no</td>\n",
       "      <td>2.0</td>\n",
       "      <td>yes</td>\n",
       "      <td>no</td>\n",
       "      <td>unknown</td>\n",
       "      <td>20</td>\n",
       "      <td>may</td>\n",
       "      <td>127.0</td>\n",
       "      <td>3.0</td>\n",
       "      <td>0</td>\n",
       "      <td>unknown</td>\n",
       "    </tr>\n",
       "    <tr>\n",
       "      <th>4</th>\n",
       "      <td>id_40992</td>\n",
       "      <td>41.0</td>\n",
       "      <td>blue-collar</td>\n",
       "      <td>married</td>\n",
       "      <td>primary</td>\n",
       "      <td>no</td>\n",
       "      <td>1352.0</td>\n",
       "      <td>yes</td>\n",
       "      <td>no</td>\n",
       "      <td>cellular</td>\n",
       "      <td>13</td>\n",
       "      <td>may</td>\n",
       "      <td>49.0</td>\n",
       "      <td>2.0</td>\n",
       "      <td>0</td>\n",
       "      <td>unknown</td>\n",
       "    </tr>\n",
       "  </tbody>\n",
       "</table>\n",
       "</div>"
      ],
      "text/plain": [
       "         id  customer_age     job_type  marital  education default  balance  \\\n",
       "0  id_43823          28.0   management   single   tertiary      no    285.0   \n",
       "1  id_32289          34.0  blue-collar  married  secondary      no    934.0   \n",
       "2  id_10523          46.0   technician  married  secondary      no    656.0   \n",
       "3  id_43951          34.0     services   single  secondary      no      2.0   \n",
       "4  id_40992          41.0  blue-collar  married    primary      no   1352.0   \n",
       "\n",
       "  housing_loan personal_loan communication_type  day_of_month month  \\\n",
       "0          yes            no            unknown            26   jun   \n",
       "1           no           yes           cellular            18   nov   \n",
       "2           no            no           cellular             5   feb   \n",
       "3          yes            no            unknown            20   may   \n",
       "4          yes            no           cellular            13   may   \n",
       "\n",
       "   last_contact_duration  num_contacts_in_campaign  \\\n",
       "0                  303.0                       4.0   \n",
       "1                  143.0                       2.0   \n",
       "2                  101.0                       4.0   \n",
       "3                  127.0                       3.0   \n",
       "4                   49.0                       2.0   \n",
       "\n",
       "   num_contacts_prev_campaign prev_campaign_outcome  \n",
       "0                           0               unknown  \n",
       "1                           1                 other  \n",
       "2                           0               unknown  \n",
       "3                           0               unknown  \n",
       "4                           0               unknown  "
      ]
     },
     "execution_count": 19,
     "metadata": {},
     "output_type": "execute_result"
    }
   ],
   "source": [
    "#checking the training set \n",
    "df_train.head()"
   ]
  },
  {
   "cell_type": "code",
   "execution_count": 20,
   "id": "dd312752",
   "metadata": {},
   "outputs": [],
   "source": [
    "#dropping the 'days_since_prev_campaign_contact' column in test dataset\n",
    "df_test.drop(columns=[\"days_since_prev_campaign_contact\"], inplace=True)"
   ]
  },
  {
   "cell_type": "code",
   "execution_count": 21,
   "id": "6f66e897",
   "metadata": {},
   "outputs": [
    {
     "data": {
      "text/html": [
       "<div>\n",
       "<style scoped>\n",
       "    .dataframe tbody tr th:only-of-type {\n",
       "        vertical-align: middle;\n",
       "    }\n",
       "\n",
       "    .dataframe tbody tr th {\n",
       "        vertical-align: top;\n",
       "    }\n",
       "\n",
       "    .dataframe thead th {\n",
       "        text-align: right;\n",
       "    }\n",
       "</style>\n",
       "<table border=\"1\" class=\"dataframe\">\n",
       "  <thead>\n",
       "    <tr style=\"text-align: right;\">\n",
       "      <th></th>\n",
       "      <th>id</th>\n",
       "      <th>customer_age</th>\n",
       "      <th>job_type</th>\n",
       "      <th>marital</th>\n",
       "      <th>education</th>\n",
       "      <th>default</th>\n",
       "      <th>balance</th>\n",
       "      <th>housing_loan</th>\n",
       "      <th>personal_loan</th>\n",
       "      <th>communication_type</th>\n",
       "      <th>day_of_month</th>\n",
       "      <th>month</th>\n",
       "      <th>last_contact_duration</th>\n",
       "      <th>num_contacts_in_campaign</th>\n",
       "      <th>num_contacts_prev_campaign</th>\n",
       "      <th>prev_campaign_outcome</th>\n",
       "    </tr>\n",
       "  </thead>\n",
       "  <tbody>\n",
       "    <tr>\n",
       "      <th>0</th>\n",
       "      <td>id_17231</td>\n",
       "      <td>55.0</td>\n",
       "      <td>retired</td>\n",
       "      <td>married</td>\n",
       "      <td>tertiary</td>\n",
       "      <td>no</td>\n",
       "      <td>7136.0</td>\n",
       "      <td>no</td>\n",
       "      <td>no</td>\n",
       "      <td>cellular</td>\n",
       "      <td>13</td>\n",
       "      <td>aug</td>\n",
       "      <td>90.0</td>\n",
       "      <td>2.0</td>\n",
       "      <td>0</td>\n",
       "      <td>unknown</td>\n",
       "    </tr>\n",
       "    <tr>\n",
       "      <th>1</th>\n",
       "      <td>id_34508</td>\n",
       "      <td>24.0</td>\n",
       "      <td>blue-collar</td>\n",
       "      <td>single</td>\n",
       "      <td>secondary</td>\n",
       "      <td>no</td>\n",
       "      <td>179.0</td>\n",
       "      <td>yes</td>\n",
       "      <td>no</td>\n",
       "      <td>cellular</td>\n",
       "      <td>18</td>\n",
       "      <td>may</td>\n",
       "      <td>63.0</td>\n",
       "      <td>2.0</td>\n",
       "      <td>0</td>\n",
       "      <td>unknown</td>\n",
       "    </tr>\n",
       "    <tr>\n",
       "      <th>2</th>\n",
       "      <td>id_44504</td>\n",
       "      <td>46.0</td>\n",
       "      <td>technician</td>\n",
       "      <td>divorced</td>\n",
       "      <td>secondary</td>\n",
       "      <td>no</td>\n",
       "      <td>143.0</td>\n",
       "      <td>no</td>\n",
       "      <td>no</td>\n",
       "      <td>cellular</td>\n",
       "      <td>8</td>\n",
       "      <td>jul</td>\n",
       "      <td>208.0</td>\n",
       "      <td>1.0</td>\n",
       "      <td>0</td>\n",
       "      <td>unknown</td>\n",
       "    </tr>\n",
       "    <tr>\n",
       "      <th>3</th>\n",
       "      <td>id_174</td>\n",
       "      <td>56.0</td>\n",
       "      <td>housemaid</td>\n",
       "      <td>single</td>\n",
       "      <td>unknown</td>\n",
       "      <td>no</td>\n",
       "      <td>6023.0</td>\n",
       "      <td>no</td>\n",
       "      <td>no</td>\n",
       "      <td>unknown</td>\n",
       "      <td>6</td>\n",
       "      <td>jun</td>\n",
       "      <td>34.0</td>\n",
       "      <td>1.0</td>\n",
       "      <td>0</td>\n",
       "      <td>unknown</td>\n",
       "    </tr>\n",
       "    <tr>\n",
       "      <th>4</th>\n",
       "      <td>id_2115</td>\n",
       "      <td>62.0</td>\n",
       "      <td>retired</td>\n",
       "      <td>married</td>\n",
       "      <td>secondary</td>\n",
       "      <td>no</td>\n",
       "      <td>2913.0</td>\n",
       "      <td>no</td>\n",
       "      <td>no</td>\n",
       "      <td>cellular</td>\n",
       "      <td>12</td>\n",
       "      <td>apr</td>\n",
       "      <td>127.0</td>\n",
       "      <td>1.0</td>\n",
       "      <td>1</td>\n",
       "      <td>success</td>\n",
       "    </tr>\n",
       "  </tbody>\n",
       "</table>\n",
       "</div>"
      ],
      "text/plain": [
       "         id  customer_age     job_type   marital  education default  balance  \\\n",
       "0  id_17231          55.0      retired   married   tertiary      no   7136.0   \n",
       "1  id_34508          24.0  blue-collar    single  secondary      no    179.0   \n",
       "2  id_44504          46.0   technician  divorced  secondary      no    143.0   \n",
       "3    id_174          56.0    housemaid    single    unknown      no   6023.0   \n",
       "4   id_2115          62.0      retired   married  secondary      no   2913.0   \n",
       "\n",
       "  housing_loan personal_loan communication_type  day_of_month month  \\\n",
       "0           no            no           cellular            13   aug   \n",
       "1          yes            no           cellular            18   may   \n",
       "2           no            no           cellular             8   jul   \n",
       "3           no            no            unknown             6   jun   \n",
       "4           no            no           cellular            12   apr   \n",
       "\n",
       "   last_contact_duration  num_contacts_in_campaign  \\\n",
       "0                   90.0                       2.0   \n",
       "1                   63.0                       2.0   \n",
       "2                  208.0                       1.0   \n",
       "3                   34.0                       1.0   \n",
       "4                  127.0                       1.0   \n",
       "\n",
       "   num_contacts_prev_campaign prev_campaign_outcome  \n",
       "0                           0               unknown  \n",
       "1                           0               unknown  \n",
       "2                           0               unknown  \n",
       "3                           0               unknown  \n",
       "4                           1               success  "
      ]
     },
     "execution_count": 21,
     "metadata": {},
     "output_type": "execute_result"
    }
   ],
   "source": [
    "#checking the test set \n",
    "df_test.head()"
   ]
  },
  {
   "cell_type": "code",
   "execution_count": 22,
   "id": "8a8a7023",
   "metadata": {},
   "outputs": [
    {
     "data": {
      "text/plain": [
       "'Exploring the training dataset'"
      ]
     },
     "execution_count": 22,
     "metadata": {},
     "output_type": "execute_result"
    }
   ],
   "source": [
    "\"\"\"Exploring the training dataset\"\"\""
   ]
  },
  {
   "cell_type": "code",
   "execution_count": 23,
   "id": "78c68b17",
   "metadata": {},
   "outputs": [
    {
     "data": {
      "text/plain": [
       "<Figure size 720x720 with 0 Axes>"
      ]
     },
     "metadata": {},
     "output_type": "display_data"
    },
    {
     "data": {
      "image/png": "[encoded data removed]",
      "text/plain": [
       "<Figure size 360x360 with 1 Axes>"
      ]
     },
     "metadata": {
      "needs_background": "light"
     },
     "output_type": "display_data"
    }
   ],
   "source": [
    "#visualizing Density distribution across age range for training set\n",
    "plt.figure(figsize=(10,10))\n",
    "sns.displot(df_train.customer_age, color=\"red\", label=\"Age\")\n",
    "plt.legend();"
   ]
  },
  {
   "cell_type": "code",
   "execution_count": 24,
   "id": "d81a15b2",
   "metadata": {},
   "outputs": [
    {
     "data": {
      "text/plain": [
       "<Figure size 720x720 with 0 Axes>"
      ]
     },
     "metadata": {},
     "output_type": "display_data"
    },
    {
     "data": {
      "image/png": "[encoded data removed]",
      "text/plain": [
       "<Figure size 360x360 with 1 Axes>"
      ]
     },
     "metadata": {
      "needs_background": "light"
     },
     "output_type": "display_data"
    }
   ],
   "source": [
    "#visualizing Density distribution across age range for test set\n",
    "plt.figure(figsize=(10,10))\n",
    "sns.displot(df_test.customer_age, color=\"green\", label=\"Age\")\n",
    "plt.legend();"
   ]
  },
  {
   "cell_type": "code",
   "execution_count": 25,
   "id": "e9fd761c",
   "metadata": {},
   "outputs": [
    {
     "data": {
      "text/plain": [
       "<Figure size 720x720 with 0 Axes>"
      ]
     },
     "metadata": {},
     "output_type": "display_data"
    },
    {
     "data": {
      "image/png": "[encoded data removed]",
      "text/plain": [
       "<Figure size 360x360 with 1 Axes>"
      ]
     },
     "metadata": {
      "needs_background": "light"
     },
     "output_type": "display_data"
    }
   ],
   "source": [
    "#visualizing Density distribution across marital status for training set\n",
    "plt.figure(figsize=(10,10))\n",
    "sns.displot(df_train.marital, color=\"red\", label=\"Marital Status\")\n",
    "plt.legend();"
   ]
  },
  {
   "cell_type": "code",
   "execution_count": 26,
   "id": "5f57072d",
   "metadata": {},
   "outputs": [
    {
     "data": {
      "text/plain": [
       "<Figure size 720x720 with 0 Axes>"
      ]
     },
     "metadata": {},
     "output_type": "display_data"
    },
    {
     "data": {
      "image/png": "[encoded data removed]",
      "text/plain": [
       "<Figure size 360x360 with 1 Axes>"
      ]
     },
     "metadata": {
      "needs_background": "light"
     },
     "output_type": "display_data"
    }
   ],
   "source": [
    "#visualizing Density distribution across marital status for test set\n",
    "plt.figure(figsize=(10,10))\n",
    "sns.displot(df_test.marital, color=\"green\", label=\"Marital Status\")\n",
    "plt.legend();"
   ]
  },
  {
   "cell_type": "code",
   "execution_count": 27,
   "id": "50e33ecd",
   "metadata": {},
   "outputs": [
    {
     "data": {
      "text/plain": [
       "<Figure size 720x720 with 0 Axes>"
      ]
     },
     "metadata": {},
     "output_type": "display_data"
    },
    {
     "data": {
      "image/png": "[encoded data removed]",
      "text/plain": [
       "<Figure size 360x360 with 1 Axes>"
      ]
     },
     "metadata": {
      "needs_background": "light"
     },
     "output_type": "display_data"
    }
   ],
   "source": [
    "#visualizing density distribution across education for training set\n",
    "plt.figure(figsize=(10,10))\n",
    "sns.displot(df_train.education, color=\"red\", label=\"Education Status\")\n",
    "plt.legend();"
   ]
  },
  {
   "cell_type": "code",
   "execution_count": 28,
   "id": "f297e83a",
   "metadata": {},
   "outputs": [
    {
     "data": {
      "text/plain": [
       "<Figure size 720x720 with 0 Axes>"
      ]
     },
     "metadata": {},
     "output_type": "display_data"
    },
    {
     "data": {
      "image/png": "[encoded data removed]",
      "text/plain": [
       "<Figure size 360x360 with 1 Axes>"
      ]
     },
     "metadata": {
      "needs_background": "light"
     },
     "output_type": "display_data"
    }
   ],
   "source": [
    "#visualizing density distribution across education for test set\n",
    "plt.figure(figsize=(10,10))\n",
    "sns.displot(df_test.education, color=\"green\", label=\"Education Status\")\n",
    "plt.legend();"
   ]
  },
  {
   "cell_type": "code",
   "execution_count": 29,
   "id": "3ab33c49",
   "metadata": {},
   "outputs": [
    {
     "data": {
      "text/plain": [
       "<Figure size 720x720 with 0 Axes>"
      ]
     },
     "metadata": {},
     "output_type": "display_data"
    },
    {
     "data": {
      "image/png": "[encoded data removed]",
      "text/plain": [
       "<Figure size 360x360 with 1 Axes>"
      ]
     },
     "metadata": {
      "needs_background": "light"
     },
     "output_type": "display_data"
    }
   ],
   "source": [
    "#visualizing density distribution across housing loan for training set\n",
    "plt.figure(figsize=(10,10))\n",
    "sns.displot(df_train.housing_loan, color=\"red\", label=\"Housing Loan Status\")\n",
    "plt.legend();"
   ]
  },
  {
   "cell_type": "code",
   "execution_count": 30,
   "id": "d580a6c3",
   "metadata": {},
   "outputs": [
    {
     "data": {
      "text/plain": [
       "<Figure size 720x720 with 0 Axes>"
      ]
     },
     "metadata": {},
     "output_type": "display_data"
    },
    {
     "data": {
      "image/png": "[encoded data removed]",
      "text/plain": [
       "<Figure size 360x360 with 1 Axes>"
      ]
     },
     "metadata": {
      "needs_background": "light"
     },
     "output_type": "display_data"
    }
   ],
   "source": [
    "#visualizing density distribution across housing loan for test set\n",
    "plt.figure(figsize=(10,10))\n",
    "sns.displot(df_test.housing_loan, color=\"green\", label=\"Housing Loan Status\")\n",
    "plt.legend();"
   ]
  },
  {
   "cell_type": "code",
   "execution_count": 31,
   "id": "a032e709",
   "metadata": {},
   "outputs": [
    {
     "data": {
      "text/plain": [
       "<Figure size 720x720 with 0 Axes>"
      ]
     },
     "metadata": {},
     "output_type": "display_data"
    },
    {
     "data": {
      "image/png": "[encoded data removed]",
      "text/plain": [
       "<Figure size 360x360 with 1 Axes>"
      ]
     },
     "metadata": {
      "needs_background": "light"
     },
     "output_type": "display_data"
    }
   ],
   "source": [
    "#visualizing density distribution across personal loan for training set\n",
    "plt.figure(figsize=(10,10))\n",
    "sns.displot(df_train.personal_loan, color=\"red\", label=\"Personal Loan Status\")\n",
    "plt.legend();"
   ]
  },
  {
   "cell_type": "code",
   "execution_count": 32,
   "id": "2b1dd022",
   "metadata": {},
   "outputs": [
    {
     "data": {
      "text/plain": [
       "<Figure size 720x720 with 0 Axes>"
      ]
     },
     "metadata": {},
     "output_type": "display_data"
    },
    {
     "data": {
      "image/png": "[encoded data removed]",
      "text/plain": [
       "<Figure size 360x360 with 1 Axes>"
      ]
     },
     "metadata": {
      "needs_background": "light"
     },
     "output_type": "display_data"
    }
   ],
   "source": [
    "#visualizing density distribution across personal loan for test set\n",
    "plt.figure(figsize=(10,10))\n",
    "sns.displot(df_test.personal_loan, color=\"green\", label=\"Personal Loan Status\")\n",
    "plt.legend();"
   ]
  },
  {
   "cell_type": "code",
   "execution_count": 33,
   "id": "d50bd0cc",
   "metadata": {},
   "outputs": [
    {
     "data": {
      "image/png": "[encoded data removed]",
      "text/plain": [
       "<Figure size 432x288 with 1 Axes>"
      ]
     },
     "metadata": {
      "needs_background": "light"
     },
     "output_type": "display_data"
    }
   ],
   "source": [
    "#visualizing density distribution across job type for training set\n",
    "g = sns.histplot(data=df_train, y=\"job_type\", color=\"red\")\n",
    "g.set_ylabel(\"Job Types\", fontsize=12)\n",
    "g.set_xlabel(\"count\")\n",
    "plt.show()"
   ]
  },
  {
   "cell_type": "code",
   "execution_count": 34,
   "id": "756ee657",
   "metadata": {},
   "outputs": [
    {
     "data": {
      "image/png": "[encoded data removed]",
      "text/plain": [
       "<Figure size 432x288 with 1 Axes>"
      ]
     },
     "metadata": {
      "needs_background": "light"
     },
     "output_type": "display_data"
    }
   ],
   "source": [
    "#visualizing density distribution across job type for test set\n",
    "g = sns.histplot(data=df_test, y=\"job_type\", color=\"green\")\n",
    "g.set_ylabel(\"Job Types\", fontsize=12)\n",
    "g.set_xlabel(\"count\")\n",
    "plt.show()"
   ]
  },
  {
   "cell_type": "code",
   "execution_count": 35,
   "id": "94ebc09c",
   "metadata": {},
   "outputs": [
    {
     "data": {
      "text/html": [
       "<div>\n",
       "<style scoped>\n",
       "    .dataframe tbody tr th:only-of-type {\n",
       "        vertical-align: middle;\n",
       "    }\n",
       "\n",
       "    .dataframe tbody tr th {\n",
       "        vertical-align: top;\n",
       "    }\n",
       "\n",
       "    .dataframe thead th {\n",
       "        text-align: right;\n",
       "    }\n",
       "</style>\n",
       "<table border=\"1\" class=\"dataframe\">\n",
       "  <thead>\n",
       "    <tr style=\"text-align: right;\">\n",
       "      <th></th>\n",
       "      <th>customer_age</th>\n",
       "      <th>balance</th>\n",
       "      <th>day_of_month</th>\n",
       "      <th>last_contact_duration</th>\n",
       "      <th>num_contacts_in_campaign</th>\n",
       "      <th>num_contacts_prev_campaign</th>\n",
       "    </tr>\n",
       "  </thead>\n",
       "  <tbody>\n",
       "    <tr>\n",
       "      <th>count</th>\n",
       "      <td>31028.000000</td>\n",
       "      <td>31248.000000</td>\n",
       "      <td>31647.000000</td>\n",
       "      <td>31336.000000</td>\n",
       "      <td>31535.000000</td>\n",
       "      <td>31647.000000</td>\n",
       "    </tr>\n",
       "    <tr>\n",
       "      <th>mean</th>\n",
       "      <td>40.439216</td>\n",
       "      <td>1368.112615</td>\n",
       "      <td>15.818561</td>\n",
       "      <td>256.184038</td>\n",
       "      <td>2.776629</td>\n",
       "      <td>0.591620</td>\n",
       "    </tr>\n",
       "    <tr>\n",
       "      <th>std</th>\n",
       "      <td>10.751392</td>\n",
       "      <td>3085.342417</td>\n",
       "      <td>8.322970</td>\n",
       "      <td>256.181479</td>\n",
       "      <td>3.153293</td>\n",
       "      <td>2.499675</td>\n",
       "    </tr>\n",
       "    <tr>\n",
       "      <th>min</th>\n",
       "      <td>18.000000</td>\n",
       "      <td>-8020.000000</td>\n",
       "      <td>1.000000</td>\n",
       "      <td>0.000000</td>\n",
       "      <td>1.000000</td>\n",
       "      <td>0.000000</td>\n",
       "    </tr>\n",
       "    <tr>\n",
       "      <th>25%</th>\n",
       "      <td>32.000000</td>\n",
       "      <td>72.000000</td>\n",
       "      <td>8.000000</td>\n",
       "      <td>103.000000</td>\n",
       "      <td>1.000000</td>\n",
       "      <td>0.000000</td>\n",
       "    </tr>\n",
       "    <tr>\n",
       "      <th>50%</th>\n",
       "      <td>39.000000</td>\n",
       "      <td>449.000000</td>\n",
       "      <td>16.000000</td>\n",
       "      <td>179.000000</td>\n",
       "      <td>2.000000</td>\n",
       "      <td>0.000000</td>\n",
       "    </tr>\n",
       "    <tr>\n",
       "      <th>75%</th>\n",
       "      <td>48.000000</td>\n",
       "      <td>1413.000000</td>\n",
       "      <td>21.000000</td>\n",
       "      <td>315.250000</td>\n",
       "      <td>3.000000</td>\n",
       "      <td>0.000000</td>\n",
       "    </tr>\n",
       "    <tr>\n",
       "      <th>max</th>\n",
       "      <td>97.000000</td>\n",
       "      <td>102128.000000</td>\n",
       "      <td>31.000000</td>\n",
       "      <td>4900.000000</td>\n",
       "      <td>63.000000</td>\n",
       "      <td>275.000000</td>\n",
       "    </tr>\n",
       "  </tbody>\n",
       "</table>\n",
       "</div>"
      ],
      "text/plain": [
       "       customer_age        balance  day_of_month  last_contact_duration  \\\n",
       "count  31028.000000   31248.000000  31647.000000           31336.000000   \n",
       "mean      40.439216    1368.112615     15.818561             256.184038   \n",
       "std       10.751392    3085.342417      8.322970             256.181479   \n",
       "min       18.000000   -8020.000000      1.000000               0.000000   \n",
       "25%       32.000000      72.000000      8.000000             103.000000   \n",
       "50%       39.000000     449.000000     16.000000             179.000000   \n",
       "75%       48.000000    1413.000000     21.000000             315.250000   \n",
       "max       97.000000  102128.000000     31.000000            4900.000000   \n",
       "\n",
       "       num_contacts_in_campaign  num_contacts_prev_campaign  \n",
       "count              31535.000000                31647.000000  \n",
       "mean                   2.776629                    0.591620  \n",
       "std                    3.153293                    2.499675  \n",
       "min                    1.000000                    0.000000  \n",
       "25%                    1.000000                    0.000000  \n",
       "50%                    2.000000                    0.000000  \n",
       "75%                    3.000000                    0.000000  \n",
       "max                   63.000000                  275.000000  "
      ]
     },
     "execution_count": 35,
     "metadata": {},
     "output_type": "execute_result"
    }
   ],
   "source": [
    "#descriptive analysis\n",
    "df_train.describe()"
   ]
  },
  {
   "cell_type": "code",
   "execution_count": 36,
   "id": "cfdfe1be",
   "metadata": {},
   "outputs": [
    {
     "data": {
      "text/html": [
       "<div>\n",
       "<style scoped>\n",
       "    .dataframe tbody tr th:only-of-type {\n",
       "        vertical-align: middle;\n",
       "    }\n",
       "\n",
       "    .dataframe tbody tr th {\n",
       "        vertical-align: top;\n",
       "    }\n",
       "\n",
       "    .dataframe thead th {\n",
       "        text-align: right;\n",
       "    }\n",
       "</style>\n",
       "<table border=\"1\" class=\"dataframe\">\n",
       "  <thead>\n",
       "    <tr style=\"text-align: right;\">\n",
       "      <th></th>\n",
       "      <th>customer_age</th>\n",
       "      <th>balance</th>\n",
       "      <th>day_of_month</th>\n",
       "      <th>last_contact_duration</th>\n",
       "      <th>num_contacts_in_campaign</th>\n",
       "      <th>num_contacts_prev_campaign</th>\n",
       "    </tr>\n",
       "  </thead>\n",
       "  <tbody>\n",
       "    <tr>\n",
       "      <th>count</th>\n",
       "      <td>13294.000000</td>\n",
       "      <td>13383.000000</td>\n",
       "      <td>13564.000000</td>\n",
       "      <td>13442.000000</td>\n",
       "      <td>13519.000000</td>\n",
       "      <td>13564.000000</td>\n",
       "    </tr>\n",
       "    <tr>\n",
       "      <th>mean</th>\n",
       "      <td>40.450429</td>\n",
       "      <td>1341.405514</td>\n",
       "      <td>15.778089</td>\n",
       "      <td>261.171031</td>\n",
       "      <td>2.730971</td>\n",
       "      <td>0.553966</td>\n",
       "    </tr>\n",
       "    <tr>\n",
       "      <th>std</th>\n",
       "      <td>10.747881</td>\n",
       "      <td>2839.670990</td>\n",
       "      <td>8.321562</td>\n",
       "      <td>261.195560</td>\n",
       "      <td>2.941338</td>\n",
       "      <td>1.762402</td>\n",
       "    </tr>\n",
       "    <tr>\n",
       "      <th>min</th>\n",
       "      <td>18.000000</td>\n",
       "      <td>-6849.000000</td>\n",
       "      <td>1.000000</td>\n",
       "      <td>0.000000</td>\n",
       "      <td>1.000000</td>\n",
       "      <td>0.000000</td>\n",
       "    </tr>\n",
       "    <tr>\n",
       "      <th>25%</th>\n",
       "      <td>32.000000</td>\n",
       "      <td>70.500000</td>\n",
       "      <td>8.000000</td>\n",
       "      <td>102.000000</td>\n",
       "      <td>1.000000</td>\n",
       "      <td>0.000000</td>\n",
       "    </tr>\n",
       "    <tr>\n",
       "      <th>50%</th>\n",
       "      <td>39.000000</td>\n",
       "      <td>447.000000</td>\n",
       "      <td>16.000000</td>\n",
       "      <td>182.000000</td>\n",
       "      <td>2.000000</td>\n",
       "      <td>0.000000</td>\n",
       "    </tr>\n",
       "    <tr>\n",
       "      <th>75%</th>\n",
       "      <td>48.000000</td>\n",
       "      <td>1466.000000</td>\n",
       "      <td>21.000000</td>\n",
       "      <td>325.000000</td>\n",
       "      <td>3.000000</td>\n",
       "      <td>0.000000</td>\n",
       "    </tr>\n",
       "    <tr>\n",
       "      <th>max</th>\n",
       "      <td>94.000000</td>\n",
       "      <td>71187.000000</td>\n",
       "      <td>31.000000</td>\n",
       "      <td>3863.000000</td>\n",
       "      <td>50.000000</td>\n",
       "      <td>38.000000</td>\n",
       "    </tr>\n",
       "  </tbody>\n",
       "</table>\n",
       "</div>"
      ],
      "text/plain": [
       "       customer_age       balance  day_of_month  last_contact_duration  \\\n",
       "count  13294.000000  13383.000000  13564.000000           13442.000000   \n",
       "mean      40.450429   1341.405514     15.778089             261.171031   \n",
       "std       10.747881   2839.670990      8.321562             261.195560   \n",
       "min       18.000000  -6849.000000      1.000000               0.000000   \n",
       "25%       32.000000     70.500000      8.000000             102.000000   \n",
       "50%       39.000000    447.000000     16.000000             182.000000   \n",
       "75%       48.000000   1466.000000     21.000000             325.000000   \n",
       "max       94.000000  71187.000000     31.000000            3863.000000   \n",
       "\n",
       "       num_contacts_in_campaign  num_contacts_prev_campaign  \n",
       "count              13519.000000                13564.000000  \n",
       "mean                   2.730971                    0.553966  \n",
       "std                    2.941338                    1.762402  \n",
       "min                    1.000000                    0.000000  \n",
       "25%                    1.000000                    0.000000  \n",
       "50%                    2.000000                    0.000000  \n",
       "75%                    3.000000                    0.000000  \n",
       "max                   50.000000                   38.000000  "
      ]
     },
     "execution_count": 36,
     "metadata": {},
     "output_type": "execute_result"
    }
   ],
   "source": [
    "df_test.describe()"
   ]
  },
  {
   "cell_type": "code",
   "execution_count": 37,
   "id": "85364586",
   "metadata": {},
   "outputs": [
    {
     "data": {
      "text/plain": [
       "\"From our descriptive analysis 'num_contacts_prev_campaign' have no statistical value therefore we drop the column from both dataset\""
      ]
     },
     "execution_count": 37,
     "metadata": {},
     "output_type": "execute_result"
    }
   ],
   "source": [
    "\"\"\"From our descriptive analysis 'num_contacts_prev_campaign' have no statistical value therefore we drop the column from both dataset\"\"\""
   ]
  },
  {
   "cell_type": "code",
   "execution_count": 38,
   "id": "9b155895",
   "metadata": {},
   "outputs": [],
   "source": [
    "#dropping from the training set, 'num_contacts_prev_campaign'column \n",
    "df_train.drop(columns=[\"num_contacts_prev_campaign\"], inplace=True)"
   ]
  },
  {
   "cell_type": "code",
   "execution_count": 39,
   "id": "547eaea2",
   "metadata": {},
   "outputs": [
    {
     "data": {
      "text/html": [
       "<div>\n",
       "<style scoped>\n",
       "    .dataframe tbody tr th:only-of-type {\n",
       "        vertical-align: middle;\n",
       "    }\n",
       "\n",
       "    .dataframe tbody tr th {\n",
       "        vertical-align: top;\n",
       "    }\n",
       "\n",
       "    .dataframe thead th {\n",
       "        text-align: right;\n",
       "    }\n",
       "</style>\n",
       "<table border=\"1\" class=\"dataframe\">\n",
       "  <thead>\n",
       "    <tr style=\"text-align: right;\">\n",
       "      <th></th>\n",
       "      <th>id</th>\n",
       "      <th>customer_age</th>\n",
       "      <th>job_type</th>\n",
       "      <th>marital</th>\n",
       "      <th>education</th>\n",
       "      <th>default</th>\n",
       "      <th>balance</th>\n",
       "      <th>housing_loan</th>\n",
       "      <th>personal_loan</th>\n",
       "      <th>communication_type</th>\n",
       "      <th>day_of_month</th>\n",
       "      <th>month</th>\n",
       "      <th>last_contact_duration</th>\n",
       "      <th>num_contacts_in_campaign</th>\n",
       "      <th>prev_campaign_outcome</th>\n",
       "    </tr>\n",
       "  </thead>\n",
       "  <tbody>\n",
       "    <tr>\n",
       "      <th>0</th>\n",
       "      <td>id_43823</td>\n",
       "      <td>28.0</td>\n",
       "      <td>management</td>\n",
       "      <td>single</td>\n",
       "      <td>tertiary</td>\n",
       "      <td>no</td>\n",
       "      <td>285.0</td>\n",
       "      <td>yes</td>\n",
       "      <td>no</td>\n",
       "      <td>unknown</td>\n",
       "      <td>26</td>\n",
       "      <td>jun</td>\n",
       "      <td>303.0</td>\n",
       "      <td>4.0</td>\n",
       "      <td>unknown</td>\n",
       "    </tr>\n",
       "    <tr>\n",
       "      <th>1</th>\n",
       "      <td>id_32289</td>\n",
       "      <td>34.0</td>\n",
       "      <td>blue-collar</td>\n",
       "      <td>married</td>\n",
       "      <td>secondary</td>\n",
       "      <td>no</td>\n",
       "      <td>934.0</td>\n",
       "      <td>no</td>\n",
       "      <td>yes</td>\n",
       "      <td>cellular</td>\n",
       "      <td>18</td>\n",
       "      <td>nov</td>\n",
       "      <td>143.0</td>\n",
       "      <td>2.0</td>\n",
       "      <td>other</td>\n",
       "    </tr>\n",
       "    <tr>\n",
       "      <th>2</th>\n",
       "      <td>id_10523</td>\n",
       "      <td>46.0</td>\n",
       "      <td>technician</td>\n",
       "      <td>married</td>\n",
       "      <td>secondary</td>\n",
       "      <td>no</td>\n",
       "      <td>656.0</td>\n",
       "      <td>no</td>\n",
       "      <td>no</td>\n",
       "      <td>cellular</td>\n",
       "      <td>5</td>\n",
       "      <td>feb</td>\n",
       "      <td>101.0</td>\n",
       "      <td>4.0</td>\n",
       "      <td>unknown</td>\n",
       "    </tr>\n",
       "    <tr>\n",
       "      <th>3</th>\n",
       "      <td>id_43951</td>\n",
       "      <td>34.0</td>\n",
       "      <td>services</td>\n",
       "      <td>single</td>\n",
       "      <td>secondary</td>\n",
       "      <td>no</td>\n",
       "      <td>2.0</td>\n",
       "      <td>yes</td>\n",
       "      <td>no</td>\n",
       "      <td>unknown</td>\n",
       "      <td>20</td>\n",
       "      <td>may</td>\n",
       "      <td>127.0</td>\n",
       "      <td>3.0</td>\n",
       "      <td>unknown</td>\n",
       "    </tr>\n",
       "    <tr>\n",
       "      <th>4</th>\n",
       "      <td>id_40992</td>\n",
       "      <td>41.0</td>\n",
       "      <td>blue-collar</td>\n",
       "      <td>married</td>\n",
       "      <td>primary</td>\n",
       "      <td>no</td>\n",
       "      <td>1352.0</td>\n",
       "      <td>yes</td>\n",
       "      <td>no</td>\n",
       "      <td>cellular</td>\n",
       "      <td>13</td>\n",
       "      <td>may</td>\n",
       "      <td>49.0</td>\n",
       "      <td>2.0</td>\n",
       "      <td>unknown</td>\n",
       "    </tr>\n",
       "  </tbody>\n",
       "</table>\n",
       "</div>"
      ],
      "text/plain": [
       "         id  customer_age     job_type  marital  education default  balance  \\\n",
       "0  id_43823          28.0   management   single   tertiary      no    285.0   \n",
       "1  id_32289          34.0  blue-collar  married  secondary      no    934.0   \n",
       "2  id_10523          46.0   technician  married  secondary      no    656.0   \n",
       "3  id_43951          34.0     services   single  secondary      no      2.0   \n",
       "4  id_40992          41.0  blue-collar  married    primary      no   1352.0   \n",
       "\n",
       "  housing_loan personal_loan communication_type  day_of_month month  \\\n",
       "0          yes            no            unknown            26   jun   \n",
       "1           no           yes           cellular            18   nov   \n",
       "2           no            no           cellular             5   feb   \n",
       "3          yes            no            unknown            20   may   \n",
       "4          yes            no           cellular            13   may   \n",
       "\n",
       "   last_contact_duration  num_contacts_in_campaign prev_campaign_outcome  \n",
       "0                  303.0                       4.0               unknown  \n",
       "1                  143.0                       2.0                 other  \n",
       "2                  101.0                       4.0               unknown  \n",
       "3                  127.0                       3.0               unknown  \n",
       "4                   49.0                       2.0               unknown  "
      ]
     },
     "execution_count": 39,
     "metadata": {},
     "output_type": "execute_result"
    }
   ],
   "source": [
    "#checking the training dataset\n",
    "df_train.head()"
   ]
  },
  {
   "cell_type": "code",
   "execution_count": 40,
   "id": "1c3daca2",
   "metadata": {},
   "outputs": [],
   "source": [
    "#dropping the 'num_contacts_prev_campaign' column in test dataset\n",
    "df_test.drop(columns=[\"num_contacts_prev_campaign\"], inplace=True)"
   ]
  },
  {
   "cell_type": "code",
   "execution_count": 41,
   "id": "de29430c",
   "metadata": {},
   "outputs": [
    {
     "data": {
      "text/html": [
       "<div>\n",
       "<style scoped>\n",
       "    .dataframe tbody tr th:only-of-type {\n",
       "        vertical-align: middle;\n",
       "    }\n",
       "\n",
       "    .dataframe tbody tr th {\n",
       "        vertical-align: top;\n",
       "    }\n",
       "\n",
       "    .dataframe thead th {\n",
       "        text-align: right;\n",
       "    }\n",
       "</style>\n",
       "<table border=\"1\" class=\"dataframe\">\n",
       "  <thead>\n",
       "    <tr style=\"text-align: right;\">\n",
       "      <th></th>\n",
       "      <th>id</th>\n",
       "      <th>customer_age</th>\n",
       "      <th>job_type</th>\n",
       "      <th>marital</th>\n",
       "      <th>education</th>\n",
       "      <th>default</th>\n",
       "      <th>balance</th>\n",
       "      <th>housing_loan</th>\n",
       "      <th>personal_loan</th>\n",
       "      <th>communication_type</th>\n",
       "      <th>day_of_month</th>\n",
       "      <th>month</th>\n",
       "      <th>last_contact_duration</th>\n",
       "      <th>num_contacts_in_campaign</th>\n",
       "      <th>prev_campaign_outcome</th>\n",
       "    </tr>\n",
       "  </thead>\n",
       "  <tbody>\n",
       "    <tr>\n",
       "      <th>0</th>\n",
       "      <td>id_17231</td>\n",
       "      <td>55.0</td>\n",
       "      <td>retired</td>\n",
       "      <td>married</td>\n",
       "      <td>tertiary</td>\n",
       "      <td>no</td>\n",
       "      <td>7136.0</td>\n",
       "      <td>no</td>\n",
       "      <td>no</td>\n",
       "      <td>cellular</td>\n",
       "      <td>13</td>\n",
       "      <td>aug</td>\n",
       "      <td>90.0</td>\n",
       "      <td>2.0</td>\n",
       "      <td>unknown</td>\n",
       "    </tr>\n",
       "    <tr>\n",
       "      <th>1</th>\n",
       "      <td>id_34508</td>\n",
       "      <td>24.0</td>\n",
       "      <td>blue-collar</td>\n",
       "      <td>single</td>\n",
       "      <td>secondary</td>\n",
       "      <td>no</td>\n",
       "      <td>179.0</td>\n",
       "      <td>yes</td>\n",
       "      <td>no</td>\n",
       "      <td>cellular</td>\n",
       "      <td>18</td>\n",
       "      <td>may</td>\n",
       "      <td>63.0</td>\n",
       "      <td>2.0</td>\n",
       "      <td>unknown</td>\n",
       "    </tr>\n",
       "    <tr>\n",
       "      <th>2</th>\n",
       "      <td>id_44504</td>\n",
       "      <td>46.0</td>\n",
       "      <td>technician</td>\n",
       "      <td>divorced</td>\n",
       "      <td>secondary</td>\n",
       "      <td>no</td>\n",
       "      <td>143.0</td>\n",
       "      <td>no</td>\n",
       "      <td>no</td>\n",
       "      <td>cellular</td>\n",
       "      <td>8</td>\n",
       "      <td>jul</td>\n",
       "      <td>208.0</td>\n",
       "      <td>1.0</td>\n",
       "      <td>unknown</td>\n",
       "    </tr>\n",
       "    <tr>\n",
       "      <th>3</th>\n",
       "      <td>id_174</td>\n",
       "      <td>56.0</td>\n",
       "      <td>housemaid</td>\n",
       "      <td>single</td>\n",
       "      <td>unknown</td>\n",
       "      <td>no</td>\n",
       "      <td>6023.0</td>\n",
       "      <td>no</td>\n",
       "      <td>no</td>\n",
       "      <td>unknown</td>\n",
       "      <td>6</td>\n",
       "      <td>jun</td>\n",
       "      <td>34.0</td>\n",
       "      <td>1.0</td>\n",
       "      <td>unknown</td>\n",
       "    </tr>\n",
       "    <tr>\n",
       "      <th>4</th>\n",
       "      <td>id_2115</td>\n",
       "      <td>62.0</td>\n",
       "      <td>retired</td>\n",
       "      <td>married</td>\n",
       "      <td>secondary</td>\n",
       "      <td>no</td>\n",
       "      <td>2913.0</td>\n",
       "      <td>no</td>\n",
       "      <td>no</td>\n",
       "      <td>cellular</td>\n",
       "      <td>12</td>\n",
       "      <td>apr</td>\n",
       "      <td>127.0</td>\n",
       "      <td>1.0</td>\n",
       "      <td>success</td>\n",
       "    </tr>\n",
       "  </tbody>\n",
       "</table>\n",
       "</div>"
      ],
      "text/plain": [
       "         id  customer_age     job_type   marital  education default  balance  \\\n",
       "0  id_17231          55.0      retired   married   tertiary      no   7136.0   \n",
       "1  id_34508          24.0  blue-collar    single  secondary      no    179.0   \n",
       "2  id_44504          46.0   technician  divorced  secondary      no    143.0   \n",
       "3    id_174          56.0    housemaid    single    unknown      no   6023.0   \n",
       "4   id_2115          62.0      retired   married  secondary      no   2913.0   \n",
       "\n",
       "  housing_loan personal_loan communication_type  day_of_month month  \\\n",
       "0           no            no           cellular            13   aug   \n",
       "1          yes            no           cellular            18   may   \n",
       "2           no            no           cellular             8   jul   \n",
       "3           no            no            unknown             6   jun   \n",
       "4           no            no           cellular            12   apr   \n",
       "\n",
       "   last_contact_duration  num_contacts_in_campaign prev_campaign_outcome  \n",
       "0                   90.0                       2.0               unknown  \n",
       "1                   63.0                       2.0               unknown  \n",
       "2                  208.0                       1.0               unknown  \n",
       "3                   34.0                       1.0               unknown  \n",
       "4                  127.0                       1.0               success  "
      ]
     },
     "execution_count": 41,
     "metadata": {},
     "output_type": "execute_result"
    }
   ],
   "source": [
    "#checking the test dataset\n",
    "df_test.head()"
   ]
  },
  {
   "cell_type": "code",
   "execution_count": 42,
   "id": "fe36e2a0",
   "metadata": {},
   "outputs": [
    {
     "data": {
      "image/png": "[encoded data removed]",
      "text/plain": [
       "<Figure size 864x432 with 1 Axes>"
      ]
     },
     "metadata": {
      "needs_background": "light"
     },
     "output_type": "display_data"
    }
   ],
   "source": [
    "# A scatter plot that displays customer age and their balance\n",
    "fig, ax = plt.subplots(figsize=(12,6))\n",
    "ax.scatter(df_train['customer_age'], df_train['balance'])\n",
    "ax.set_xlabel('Customer Age')\n",
    "ax.set_ylabel('Balance')\n",
    "ax.set_title('Customer Age vs Balance')\n",
    "plt.show()"
   ]
  },
  {
   "cell_type": "code",
   "execution_count": 43,
   "id": "6d7f91ac",
   "metadata": {},
   "outputs": [
    {
     "data": {
      "text/plain": [
       "619"
      ]
     },
     "execution_count": 43,
     "metadata": {},
     "output_type": "execute_result"
    }
   ],
   "source": [
    "#checking for missing values in customer age of train set\n",
    "df_train[\"customer_age\"].isnull().sum()"
   ]
  },
  {
   "cell_type": "code",
   "execution_count": 44,
   "id": "9de6fb61",
   "metadata": {},
   "outputs": [],
   "source": [
    "#replacing missing values with the mean of the customers\n",
    "customer_mean= df_train[\"customer_age\"].mean()\n",
    "df_train[\"customer_age\"].fillna(value=customer_mean, inplace=True)"
   ]
  },
  {
   "cell_type": "code",
   "execution_count": 45,
   "id": "4f2be420",
   "metadata": {},
   "outputs": [
    {
     "data": {
      "text/plain": [
       "0"
      ]
     },
     "execution_count": 45,
     "metadata": {},
     "output_type": "execute_result"
    }
   ],
   "source": [
    "#checking for missing values in customer age of train set\n",
    "df_train[\"customer_age\"].isnull().sum()"
   ]
  },
  {
   "cell_type": "code",
   "execution_count": 46,
   "id": "69c797ad",
   "metadata": {},
   "outputs": [
    {
     "data": {
      "text/plain": [
       "270"
      ]
     },
     "execution_count": 46,
     "metadata": {},
     "output_type": "execute_result"
    }
   ],
   "source": [
    "#checking for missing values in customer age of test set\n",
    "df_test[\"customer_age\"].isnull().sum()"
   ]
  },
  {
   "cell_type": "code",
   "execution_count": 47,
   "id": "ffacbb4d",
   "metadata": {},
   "outputs": [],
   "source": [
    "#replacing missing values with the mean of the customers\n",
    "customer_mean_test= df_test[\"customer_age\"].mean()\n",
    "df_test[\"customer_age\"].fillna(value=customer_mean_test, inplace=True)"
   ]
  },
  {
   "cell_type": "code",
   "execution_count": 48,
   "id": "f1fd3f40",
   "metadata": {},
   "outputs": [
    {
     "data": {
      "text/plain": [
       "0"
      ]
     },
     "execution_count": 48,
     "metadata": {},
     "output_type": "execute_result"
    }
   ],
   "source": [
    "#checking for missing values in customer age of test set\n",
    "df_test[\"customer_age\"].isnull().sum()"
   ]
  },
  {
   "cell_type": "code",
   "execution_count": 49,
   "id": "9296bd7c",
   "metadata": {},
   "outputs": [
    {
     "data": {
      "text/plain": [
       "399"
      ]
     },
     "execution_count": 49,
     "metadata": {},
     "output_type": "execute_result"
    }
   ],
   "source": [
    "#checking for missing values in balance of train set\n",
    "df_train[\"balance\"].isnull().sum()"
   ]
  },
  {
   "cell_type": "code",
   "execution_count": 50,
   "id": "6e0f8c62",
   "metadata": {},
   "outputs": [],
   "source": [
    "#replacing missing values with the mean of the balance\n",
    "balance_mean= df_train[\"balance\"].mean()\n",
    "df_train[\"balance\"].fillna(value=balance_mean, inplace=True)"
   ]
  },
  {
   "cell_type": "code",
   "execution_count": 51,
   "id": "e9661e80",
   "metadata": {},
   "outputs": [
    {
     "data": {
      "text/plain": [
       "0"
      ]
     },
     "execution_count": 51,
     "metadata": {},
     "output_type": "execute_result"
    }
   ],
   "source": [
    "#checking for missing values in balance of train set\n",
    "df_train[\"balance\"].isnull().sum()"
   ]
  },
  {
   "cell_type": "code",
   "execution_count": 52,
   "id": "5725eae0",
   "metadata": {},
   "outputs": [
    {
     "data": {
      "text/plain": [
       "181"
      ]
     },
     "execution_count": 52,
     "metadata": {},
     "output_type": "execute_result"
    }
   ],
   "source": [
    "#checking for missing values in balance of test set\n",
    "df_test[\"balance\"].isnull().sum()"
   ]
  },
  {
   "cell_type": "code",
   "execution_count": 53,
   "id": "e76fd83b",
   "metadata": {},
   "outputs": [],
   "source": [
    "#replacing missing values with the mean of the balance\n",
    "balance_test_mean= df_test[\"balance\"].mean()\n",
    "df_test[\"balance\"].fillna(value=balance_test_mean, inplace=True)"
   ]
  },
  {
   "cell_type": "code",
   "execution_count": 54,
   "id": "75515e3b",
   "metadata": {},
   "outputs": [
    {
     "data": {
      "text/plain": [
       "0"
      ]
     },
     "execution_count": 54,
     "metadata": {},
     "output_type": "execute_result"
    }
   ],
   "source": [
    "#checking for missing values in balance of test set\n",
    "df_test[\"balance\"].isnull().sum()"
   ]
  },
  {
   "cell_type": "code",
   "execution_count": 55,
   "id": "6031b737",
   "metadata": {},
   "outputs": [
    {
     "data": {
      "text/html": [
       "<style type=\"text/css\">\n",
       "#T_518bf_row0_col0, #T_518bf_row1_col1, #T_518bf_row2_col2, #T_518bf_row3_col3, #T_518bf_row4_col4 {\n",
       "  background-color: #023858;\n",
       "  color: #f1f1f1;\n",
       "}\n",
       "#T_518bf_row0_col1, #T_518bf_row1_col0 {\n",
       "  background-color: #e1dfed;\n",
       "  color: #000000;\n",
       "}\n",
       "#T_518bf_row0_col2, #T_518bf_row2_col0 {\n",
       "  background-color: #f5eef6;\n",
       "  color: #000000;\n",
       "}\n",
       "#T_518bf_row0_col3, #T_518bf_row3_col0 {\n",
       "  background-color: #f4eef6;\n",
       "  color: #000000;\n",
       "}\n",
       "#T_518bf_row0_col4, #T_518bf_row4_col0 {\n",
       "  background-color: #f2ecf5;\n",
       "  color: #000000;\n",
       "}\n",
       "#T_518bf_row1_col2, #T_518bf_row2_col1 {\n",
       "  background-color: #f3edf5;\n",
       "  color: #000000;\n",
       "}\n",
       "#T_518bf_row1_col3, #T_518bf_row3_col1 {\n",
       "  background-color: #f1ebf4;\n",
       "  color: #000000;\n",
       "}\n",
       "#T_518bf_row1_col4, #T_518bf_row4_col1 {\n",
       "  background-color: #f6eff7;\n",
       "  color: #000000;\n",
       "}\n",
       "#T_518bf_row2_col3, #T_518bf_row3_col2 {\n",
       "  background-color: #f8f1f8;\n",
       "  color: #000000;\n",
       "}\n",
       "#T_518bf_row2_col4, #T_518bf_row4_col2 {\n",
       "  background-color: #d4d4e8;\n",
       "  color: #000000;\n",
       "}\n",
       "#T_518bf_row3_col4, #T_518bf_row4_col3 {\n",
       "  background-color: #fff7fb;\n",
       "  color: #000000;\n",
       "}\n",
       "</style>\n",
       "<table id=\"T_518bf\">\n",
       "  <thead>\n",
       "    <tr>\n",
       "      <th class=\"blank level0\" >&nbsp;</th>\n",
       "      <th id=\"T_518bf_level0_col0\" class=\"col_heading level0 col0\" >customer_age</th>\n",
       "      <th id=\"T_518bf_level0_col1\" class=\"col_heading level0 col1\" >balance</th>\n",
       "      <th id=\"T_518bf_level0_col2\" class=\"col_heading level0 col2\" >day_of_month</th>\n",
       "      <th id=\"T_518bf_level0_col3\" class=\"col_heading level0 col3\" >last_contact_duration</th>\n",
       "      <th id=\"T_518bf_level0_col4\" class=\"col_heading level0 col4\" >num_contacts_in_campaign</th>\n",
       "    </tr>\n",
       "  </thead>\n",
       "  <tbody>\n",
       "    <tr>\n",
       "      <th id=\"T_518bf_level0_row0\" class=\"row_heading level0 row0\" >customer_age</th>\n",
       "      <td id=\"T_518bf_row0_col0\" class=\"data row0 col0\" >1.000000</td>\n",
       "      <td id=\"T_518bf_row0_col1\" class=\"data row0 col1\" >0.102059</td>\n",
       "      <td id=\"T_518bf_row0_col2\" class=\"data row0 col2\" >-0.012617</td>\n",
       "      <td id=\"T_518bf_row0_col3\" class=\"data row0 col3\" >-0.006870</td>\n",
       "      <td id=\"T_518bf_row0_col4\" class=\"data row0 col4\" >0.006128</td>\n",
       "    </tr>\n",
       "    <tr>\n",
       "      <th id=\"T_518bf_level0_row1\" class=\"row_heading level0 row1\" >balance</th>\n",
       "      <td id=\"T_518bf_row1_col0\" class=\"data row1 col0\" >0.102059</td>\n",
       "      <td id=\"T_518bf_row1_col1\" class=\"data row1 col1\" >1.000000</td>\n",
       "      <td id=\"T_518bf_row1_col2\" class=\"data row1 col2\" >0.001616</td>\n",
       "      <td id=\"T_518bf_row1_col3\" class=\"data row1 col3\" >0.016634</td>\n",
       "      <td id=\"T_518bf_row1_col4\" class=\"data row1 col4\" >-0.020664</td>\n",
       "    </tr>\n",
       "    <tr>\n",
       "      <th id=\"T_518bf_level0_row2\" class=\"row_heading level0 row2\" >day_of_month</th>\n",
       "      <td id=\"T_518bf_row2_col0\" class=\"data row2 col0\" >-0.012617</td>\n",
       "      <td id=\"T_518bf_row2_col1\" class=\"data row2 col1\" >0.001616</td>\n",
       "      <td id=\"T_518bf_row2_col2\" class=\"data row2 col2\" >1.000000</td>\n",
       "      <td id=\"T_518bf_row2_col3\" class=\"data row2 col3\" >-0.034856</td>\n",
       "      <td id=\"T_518bf_row2_col4\" class=\"data row2 col4\" >0.165168</td>\n",
       "    </tr>\n",
       "    <tr>\n",
       "      <th id=\"T_518bf_level0_row3\" class=\"row_heading level0 row3\" >last_contact_duration</th>\n",
       "      <td id=\"T_518bf_row3_col0\" class=\"data row3 col0\" >-0.006870</td>\n",
       "      <td id=\"T_518bf_row3_col1\" class=\"data row3 col1\" >0.016634</td>\n",
       "      <td id=\"T_518bf_row3_col2\" class=\"data row3 col2\" >-0.034856</td>\n",
       "      <td id=\"T_518bf_row3_col3\" class=\"data row3 col3\" >1.000000</td>\n",
       "      <td id=\"T_518bf_row3_col4\" class=\"data row3 col4\" >-0.086517</td>\n",
       "    </tr>\n",
       "    <tr>\n",
       "      <th id=\"T_518bf_level0_row4\" class=\"row_heading level0 row4\" >num_contacts_in_campaign</th>\n",
       "      <td id=\"T_518bf_row4_col0\" class=\"data row4 col0\" >0.006128</td>\n",
       "      <td id=\"T_518bf_row4_col1\" class=\"data row4 col1\" >-0.020664</td>\n",
       "      <td id=\"T_518bf_row4_col2\" class=\"data row4 col2\" >0.165168</td>\n",
       "      <td id=\"T_518bf_row4_col3\" class=\"data row4 col3\" >-0.086517</td>\n",
       "      <td id=\"T_518bf_row4_col4\" class=\"data row4 col4\" >1.000000</td>\n",
       "    </tr>\n",
       "  </tbody>\n",
       "</table>\n"
      ],
      "text/plain": [
       "<pandas.io.formats.style.Styler at 0x289c13ab820>"
      ]
     },
     "execution_count": 55,
     "metadata": {},
     "output_type": "execute_result"
    }
   ],
   "source": [
    "#checking for correlation in training dataset\n",
    "corr=df_train.corr()\n",
    "corr.style.background_gradient(axis=None)"
   ]
  },
  {
   "cell_type": "code",
   "execution_count": 56,
   "id": "17cb5c41",
   "metadata": {},
   "outputs": [
    {
     "data": {
      "text/html": [
       "<style type=\"text/css\">\n",
       "#T_50a55_row0_col0, #T_50a55_row1_col1, #T_50a55_row2_col2, #T_50a55_row3_col3, #T_50a55_row4_col4 {\n",
       "  background-color: #023858;\n",
       "  color: #f1f1f1;\n",
       "}\n",
       "#T_50a55_row0_col1, #T_50a55_row1_col0 {\n",
       "  background-color: #e8e4f0;\n",
       "  color: #000000;\n",
       "}\n",
       "#T_50a55_row0_col2, #T_50a55_row2_col0 {\n",
       "  background-color: #f4eef6;\n",
       "  color: #000000;\n",
       "}\n",
       "#T_50a55_row0_col3, #T_50a55_row0_col4, #T_50a55_row1_col4, #T_50a55_row3_col0, #T_50a55_row4_col0, #T_50a55_row4_col1 {\n",
       "  background-color: #f3edf5;\n",
       "  color: #000000;\n",
       "}\n",
       "#T_50a55_row1_col2, #T_50a55_row2_col1 {\n",
       "  background-color: #f2ecf5;\n",
       "  color: #000000;\n",
       "}\n",
       "#T_50a55_row1_col3, #T_50a55_row3_col1 {\n",
       "  background-color: #efe9f3;\n",
       "  color: #000000;\n",
       "}\n",
       "#T_50a55_row2_col3, #T_50a55_row3_col2 {\n",
       "  background-color: #f7f0f7;\n",
       "  color: #000000;\n",
       "}\n",
       "#T_50a55_row2_col4, #T_50a55_row4_col2 {\n",
       "  background-color: #d7d6e9;\n",
       "  color: #000000;\n",
       "}\n",
       "#T_50a55_row3_col4, #T_50a55_row4_col3 {\n",
       "  background-color: #fff7fb;\n",
       "  color: #000000;\n",
       "}\n",
       "</style>\n",
       "<table id=\"T_50a55\">\n",
       "  <thead>\n",
       "    <tr>\n",
       "      <th class=\"blank level0\" >&nbsp;</th>\n",
       "      <th id=\"T_50a55_level0_col0\" class=\"col_heading level0 col0\" >customer_age</th>\n",
       "      <th id=\"T_50a55_level0_col1\" class=\"col_heading level0 col1\" >balance</th>\n",
       "      <th id=\"T_50a55_level0_col2\" class=\"col_heading level0 col2\" >day_of_month</th>\n",
       "      <th id=\"T_50a55_level0_col3\" class=\"col_heading level0 col3\" >last_contact_duration</th>\n",
       "      <th id=\"T_50a55_level0_col4\" class=\"col_heading level0 col4\" >num_contacts_in_campaign</th>\n",
       "    </tr>\n",
       "  </thead>\n",
       "  <tbody>\n",
       "    <tr>\n",
       "      <th id=\"T_50a55_level0_row0\" class=\"row_heading level0 row0\" >customer_age</th>\n",
       "      <td id=\"T_50a55_row0_col0\" class=\"data row0 col0\" >1.000000</td>\n",
       "      <td id=\"T_50a55_row0_col1\" class=\"data row0 col1\" >0.069974</td>\n",
       "      <td id=\"T_50a55_row0_col2\" class=\"data row0 col2\" >-0.003514</td>\n",
       "      <td id=\"T_50a55_row0_col3\" class=\"data row0 col3\" >0.004686</td>\n",
       "      <td id=\"T_50a55_row0_col4\" class=\"data row0 col4\" >0.004166</td>\n",
       "    </tr>\n",
       "    <tr>\n",
       "      <th id=\"T_50a55_level0_row1\" class=\"row_heading level0 row1\" >balance</th>\n",
       "      <td id=\"T_50a55_row1_col0\" class=\"data row1 col0\" >0.069974</td>\n",
       "      <td id=\"T_50a55_row1_col1\" class=\"data row1 col1\" >1.000000</td>\n",
       "      <td id=\"T_50a55_row1_col2\" class=\"data row1 col2\" >0.009161</td>\n",
       "      <td id=\"T_50a55_row1_col3\" class=\"data row1 col3\" >0.032196</td>\n",
       "      <td id=\"T_50a55_row1_col4\" class=\"data row1 col4\" >0.004330</td>\n",
       "    </tr>\n",
       "    <tr>\n",
       "      <th id=\"T_50a55_level0_row2\" class=\"row_heading level0 row2\" >day_of_month</th>\n",
       "      <td id=\"T_50a55_row2_col0\" class=\"data row2 col0\" >-0.003514</td>\n",
       "      <td id=\"T_50a55_row2_col1\" class=\"data row2 col1\" >0.009161</td>\n",
       "      <td id=\"T_50a55_row2_col2\" class=\"data row2 col2\" >1.000000</td>\n",
       "      <td id=\"T_50a55_row2_col3\" class=\"data row2 col3\" >-0.021915</td>\n",
       "      <td id=\"T_50a55_row2_col4\" class=\"data row2 col4\" >0.155727</td>\n",
       "    </tr>\n",
       "    <tr>\n",
       "      <th id=\"T_50a55_level0_row3\" class=\"row_heading level0 row3\" >last_contact_duration</th>\n",
       "      <td id=\"T_50a55_row3_col0\" class=\"data row3 col0\" >0.004686</td>\n",
       "      <td id=\"T_50a55_row3_col1\" class=\"data row3 col1\" >0.032196</td>\n",
       "      <td id=\"T_50a55_row3_col2\" class=\"data row3 col2\" >-0.021915</td>\n",
       "      <td id=\"T_50a55_row3_col3\" class=\"data row3 col3\" >1.000000</td>\n",
       "      <td id=\"T_50a55_row3_col4\" class=\"data row3 col4\" >-0.083385</td>\n",
       "    </tr>\n",
       "    <tr>\n",
       "      <th id=\"T_50a55_level0_row4\" class=\"row_heading level0 row4\" >num_contacts_in_campaign</th>\n",
       "      <td id=\"T_50a55_row4_col0\" class=\"data row4 col0\" >0.004166</td>\n",
       "      <td id=\"T_50a55_row4_col1\" class=\"data row4 col1\" >0.004330</td>\n",
       "      <td id=\"T_50a55_row4_col2\" class=\"data row4 col2\" >0.155727</td>\n",
       "      <td id=\"T_50a55_row4_col3\" class=\"data row4 col3\" >-0.083385</td>\n",
       "      <td id=\"T_50a55_row4_col4\" class=\"data row4 col4\" >1.000000</td>\n",
       "    </tr>\n",
       "  </tbody>\n",
       "</table>\n"
      ],
      "text/plain": [
       "<pandas.io.formats.style.Styler at 0x289c14d6a00>"
      ]
     },
     "execution_count": 56,
     "metadata": {},
     "output_type": "execute_result"
    }
   ],
   "source": [
    "#checking for correlation in test dataset\n",
    "corr=df_test.corr()\n",
    "corr.style.background_gradient(axis=None)"
   ]
  },
  {
   "cell_type": "code",
   "execution_count": 59,
   "id": "de207d3f",
   "metadata": {},
   "outputs": [
    {
     "data": {
      "text/plain": [
       "'Building Model'"
      ]
     },
     "execution_count": 59,
     "metadata": {},
     "output_type": "execute_result"
    }
   ],
   "source": [
    "\"\"\"Building Model\"\"\""
   ]
  },
  {
   "cell_type": "code",
   "execution_count": 60,
   "id": "7886a664",
   "metadata": {},
   "outputs": [],
   "source": [
    "#splitting the data\n",
    "X= df_train[[\"customer_age\", \"balance\"]]"
   ]
  },
  {
   "cell_type": "code",
   "execution_count": 61,
   "id": "4eb3d417",
   "metadata": {},
   "outputs": [],
   "source": [
    "#Building model\n",
    "model= KMeans(n_clusters=3, random_state=42)"
   ]
  },
  {
   "cell_type": "code",
   "execution_count": 62,
   "id": "286b3277",
   "metadata": {},
   "outputs": [
    {
     "data": {
      "text/plain": [
       "KMeans(n_clusters=3, random_state=42)"
      ]
     },
     "execution_count": 62,
     "metadata": {},
     "output_type": "execute_result"
    }
   ],
   "source": [
    "#fitting model to data\n",
    "model.fit(X)"
   ]
  },
  {
   "cell_type": "code",
   "execution_count": 63,
   "id": "1df25ec7",
   "metadata": {},
   "outputs": [
    {
     "data": {
      "text/plain": [
       "array([0, 0, 0, 0, 0, 0, 0, 0, 0, 0])"
      ]
     },
     "execution_count": 63,
     "metadata": {},
     "output_type": "execute_result"
    }
   ],
   "source": [
    "labels = model.labels_\n",
    "labels[:10]"
   ]
  },
  {
   "cell_type": "code",
   "execution_count": 64,
   "id": "9cad65f9",
   "metadata": {},
   "outputs": [
    {
     "data": {
      "image/png": "[encoded data removed]",
      "text/plain": [
       "<Figure size 432x288 with 1 Axes>"
      ]
     },
     "metadata": {
      "needs_background": "light"
     },
     "output_type": "display_data"
    }
   ],
   "source": [
    "#extract cluster labels that model created during training\n",
    "#plotting clusters\n",
    "sns.scatterplot(x=df_train[\"customer_age\"],y=df_train[\"balance\"], hue= labels, palette=\"deep\");"
   ]
  },
  {
   "cell_type": "code",
   "execution_count": 65,
   "id": "482bdb47",
   "metadata": {},
   "outputs": [
    {
     "data": {
      "text/plain": [
       "array([[   40.1303783 ,   664.65632209],\n",
       "       [   43.09571855,  6575.48185275],\n",
       "       [   46.16605269, 26736.69191919]])"
      ]
     },
     "execution_count": 65,
     "metadata": {},
     "output_type": "execute_result"
    }
   ],
   "source": [
    "centroids = model.cluster_centers_\n",
    "centroids"
   ]
  },
  {
   "cell_type": "code",
   "execution_count": 66,
   "id": "cd5deef2",
   "metadata": {},
   "outputs": [
    {
     "data": {
      "image/png": "[encoded data removed]",
      "text/plain": [
       "<Figure size 432x288 with 1 Axes>"
      ]
     },
     "metadata": {
      "needs_background": "light"
     },
     "output_type": "display_data"
    }
   ],
   "source": [
    "#plotting centroids\n",
    "sns.scatterplot(x=df_train[\"customer_age\"],y=df_train[\"balance\"], hue= labels, palette=\"deep\"),\n",
    "plt.scatter(x=centroids[ : , 0], y=centroids[  : , 1], color=\"gray\", marker=\"*\", s=150);"
   ]
  },
  {
   "cell_type": "code",
   "execution_count": 67,
   "id": "a8a7b1c0",
   "metadata": {},
   "outputs": [
    {
     "name": "stdout",
     "output_type": "stream",
     "text": [
      "Inertia (3 clusters): 77448745193.79593\n"
     ]
    }
   ],
   "source": [
    "#extracting the inertias\n",
    "inertia = model.inertia_\n",
    "print(\"Inertia (3 clusters):\", inertia)"
   ]
  },
  {
   "cell_type": "code",
   "execution_count": 68,
   "id": "a7a4cc20",
   "metadata": {},
   "outputs": [
    {
     "name": "stdout",
     "output_type": "stream",
     "text": [
      "Silhouette Score (3 clusters): 0.7923306186565806\n"
     ]
    }
   ],
   "source": [
    "#extracting sihouette scores\n",
    "ss = silhouette_score(X, model.labels_)\n",
    "print(\"Silhouette Score (3 clusters):\", ss)"
   ]
  },
  {
   "cell_type": "code",
   "execution_count": 69,
   "id": "5cb8626c",
   "metadata": {},
   "outputs": [
    {
     "name": "stdout",
     "output_type": "stream",
     "text": [
      "Inertia: [140666501821.96823, 77448745193.79593, 50236867971.25571, 33081534234.2422, 24113047570.638668, 18522189620.17636, 13846865682.392069, 11116407522.121939, 8791779948.959858, 7291949536.44128, 6060925219.096214]\n",
      "\n",
      "Silhouette Scores: [0.8560177264934956, 0.7923306186565806, 0.7578729159202737, 0.7203061894200133, 0.6645109394024883, 0.6477559763147587, 0.6448309969053023, 0.6194013012654715, 0.6161685375326591, 0.61134340061071, 0.5646097868249453]\n"
     ]
    }
   ],
   "source": [
    "n_clusters = range(2,13)\n",
    "inertia_errors = []\n",
    "silhouette_scores = []\n",
    "\n",
    "# Add `for` loop to train model and calculate inertia, silhouette score.\n",
    "for k in n_clusters:\n",
    "    #Build model\n",
    "    model=KMeans(n_clusters=k, random_state=42)\n",
    "    #train model\n",
    "    model.fit(X)\n",
    "    #calculate inertia\n",
    "    inertia_errors.append(model.inertia_)\n",
    "    #calculate ss\n",
    "    silhouette_scores.append(silhouette_score(X, model.labels_))\n",
    "\n",
    "print(\"Inertia:\", inertia_errors)\n",
    "print()\n",
    "print(\"Silhouette Scores:\", silhouette_scores)"
   ]
  },
  {
   "cell_type": "code",
   "execution_count": 70,
   "id": "0f136f0f",
   "metadata": {},
   "outputs": [
    {
     "data": {
      "text/plain": [
       "Text(0.5, 1.0, 'K-Means Model: Inertia vs Number of Clusters')"
      ]
     },
     "execution_count": 70,
     "metadata": {},
     "output_type": "execute_result"
    },
    {
     "data": {
      "image/png": "[encoded data removed]",
      "text/plain": [
       "<Figure size 432x288 with 1 Axes>"
      ]
     },
     "metadata": {
      "needs_background": "light"
     },
     "output_type": "display_data"
    }
   ],
   "source": [
    "# Plot `inertia_errors` by `n_clusters`\n",
    "plt.plot(n_clusters, inertia_errors)\n",
    "plt.xlabel(\"Number of Clusters\")\n",
    "plt.ylabel(\"Inertia\")\n",
    "plt.title(\"K-Means Model: Inertia vs Number of Clusters\")"
   ]
  },
  {
   "cell_type": "code",
   "execution_count": 71,
   "id": "6c91267c",
   "metadata": {},
   "outputs": [
    {
     "data": {
      "image/png": "[encoded data removed]",
      "text/plain": [
       "<Figure size 432x288 with 1 Axes>"
      ]
     },
     "metadata": {
      "needs_background": "light"
     },
     "output_type": "display_data"
    }
   ],
   "source": [
    "# Plot `silhouette_scores` vs `n_clusters`\n",
    "plt.plot(n_clusters, silhouette_scores)\n",
    "plt.xlabel(\"Number of Clusters\")\n",
    "plt.ylabel(\"Silhouette Score\")\n",
    "plt.title(\"K-Means Model: Silhouette Score vs Number of Clusters\");"
   ]
  },
  {
   "cell_type": "code",
   "execution_count": 72,
   "id": "f03e9f8a",
   "metadata": {},
   "outputs": [
    {
     "data": {
      "text/plain": [
       "KMeans(n_clusters=3, random_state=42)"
      ]
     },
     "execution_count": 72,
     "metadata": {},
     "output_type": "execute_result"
    }
   ],
   "source": [
    "# Build model\n",
    "final_model = KMeans(n_clusters=3, random_state=42)\n",
    "# Fit model to data\n",
    "final_model.fit(X)"
   ]
  },
  {
   "cell_type": "code",
   "execution_count": 73,
   "id": "965c2b22",
   "metadata": {},
   "outputs": [
    {
     "data": {
      "image/png": "[encoded data removed]",
      "text/plain": [
       "<Figure size 432x288 with 1 Axes>"
      ]
     },
     "metadata": {
      "needs_background": "light"
     },
     "output_type": "display_data"
    }
   ],
   "source": [
    "#plotting clusters\n",
    "sns.scatterplot(x=df_train[\"customer_age\"],y=df_train[\"balance\"], hue= final_model.labels_, palette=\"deep\");"
   ]
  },
  {
   "cell_type": "code",
   "execution_count": 74,
   "id": "fdea523c",
   "metadata": {},
   "outputs": [
    {
     "data": {
      "text/html": [
       "<div>\n",
       "<style scoped>\n",
       "    .dataframe tbody tr th:only-of-type {\n",
       "        vertical-align: middle;\n",
       "    }\n",
       "\n",
       "    .dataframe tbody tr th {\n",
       "        vertical-align: top;\n",
       "    }\n",
       "\n",
       "    .dataframe thead th {\n",
       "        text-align: right;\n",
       "    }\n",
       "</style>\n",
       "<table border=\"1\" class=\"dataframe\">\n",
       "  <thead>\n",
       "    <tr style=\"text-align: right;\">\n",
       "      <th></th>\n",
       "      <th>customer_age</th>\n",
       "      <th>balance</th>\n",
       "    </tr>\n",
       "  </thead>\n",
       "  <tbody>\n",
       "    <tr>\n",
       "      <th>0</th>\n",
       "      <td>40.131597</td>\n",
       "      <td>664.034709</td>\n",
       "    </tr>\n",
       "    <tr>\n",
       "      <th>1</th>\n",
       "      <td>43.077583</td>\n",
       "      <td>6569.370128</td>\n",
       "    </tr>\n",
       "    <tr>\n",
       "      <th>2</th>\n",
       "      <td>46.166053</td>\n",
       "      <td>26736.691919</td>\n",
       "    </tr>\n",
       "  </tbody>\n",
       "</table>\n",
       "</div>"
      ],
      "text/plain": [
       "   customer_age       balance\n",
       "0     40.131597    664.034709\n",
       "1     43.077583   6569.370128\n",
       "2     46.166053  26736.691919"
      ]
     },
     "execution_count": 74,
     "metadata": {},
     "output_type": "execute_result"
    }
   ],
   "source": [
    "xgb = X.groupby(final_model.labels_).mean()\n",
    "xgb"
   ]
  },
  {
   "cell_type": "code",
   "execution_count": 75,
   "id": "1c88e3f8",
   "metadata": {},
   "outputs": [
    {
     "data": {
      "image/png": "[encoded data removed]",
      "text/plain": [
       "<Figure size 432x288 with 1 Axes>"
      ]
     },
     "metadata": {
      "needs_background": "light"
     },
     "output_type": "display_data"
    }
   ],
   "source": [
    "# Create side-by-side bar chart of `xgb`\n",
    "(xgb).plot(kind=\"bar\");"
   ]
  },
  {
   "cell_type": "code",
   "execution_count": 76,
   "id": "96f3f4a8",
   "metadata": {},
   "outputs": [],
   "source": [
    "#fitting model to training set\n",
    "X_test=df_test[[\"customer_age\",\"balance\"]]"
   ]
  },
  {
   "cell_type": "code",
   "execution_count": 77,
   "id": "106c3a69",
   "metadata": {},
   "outputs": [
    {
     "data": {
      "text/plain": [
       "KMeans(n_clusters=3, random_state=42)"
      ]
     },
     "execution_count": 77,
     "metadata": {},
     "output_type": "execute_result"
    }
   ],
   "source": [
    "# Build model\n",
    "final_model = KMeans(n_clusters=3, random_state=42)\n",
    "# Fit model to data\n",
    "final_model.fit(X_test)"
   ]
  },
  {
   "cell_type": "code",
   "execution_count": 78,
   "id": "cd07668f",
   "metadata": {},
   "outputs": [
    {
     "data": {
      "text/plain": [
       "array([1, 0, 0, 1, 0, 0, 0, 0, 1, 0])"
      ]
     },
     "execution_count": 78,
     "metadata": {},
     "output_type": "execute_result"
    }
   ],
   "source": [
    "labels = final_model.labels_\n",
    "labels[:10]"
   ]
  },
  {
   "cell_type": "code",
   "execution_count": 79,
   "id": "ef74e18d",
   "metadata": {},
   "outputs": [
    {
     "data": {
      "image/png": "[encoded data removed]",
      "text/plain": [
       "<Figure size 432x288 with 1 Axes>"
      ]
     },
     "metadata": {
      "needs_background": "light"
     },
     "output_type": "display_data"
    }
   ],
   "source": [
    "#plotting clusters\n",
    "sns.scatterplot(x=df_test[\"customer_age\"],y=df_test[\"balance\"], hue= labels, palette=\"deep\");"
   ]
  },
  {
   "cell_type": "code",
   "execution_count": 80,
   "id": "d62eae30",
   "metadata": {},
   "outputs": [
    {
     "data": {
      "text/html": [
       "<div>\n",
       "<style scoped>\n",
       "    .dataframe tbody tr th:only-of-type {\n",
       "        vertical-align: middle;\n",
       "    }\n",
       "\n",
       "    .dataframe tbody tr th {\n",
       "        vertical-align: top;\n",
       "    }\n",
       "\n",
       "    .dataframe thead th {\n",
       "        text-align: right;\n",
       "    }\n",
       "</style>\n",
       "<table border=\"1\" class=\"dataframe\">\n",
       "  <thead>\n",
       "    <tr style=\"text-align: right;\">\n",
       "      <th></th>\n",
       "      <th>customer_age</th>\n",
       "      <th>balance</th>\n",
       "    </tr>\n",
       "  </thead>\n",
       "  <tbody>\n",
       "    <tr>\n",
       "      <th>0</th>\n",
       "      <td>40.174564</td>\n",
       "      <td>611.209233</td>\n",
       "    </tr>\n",
       "    <tr>\n",
       "      <th>1</th>\n",
       "      <td>42.614494</td>\n",
       "      <td>5647.260959</td>\n",
       "    </tr>\n",
       "    <tr>\n",
       "      <th>2</th>\n",
       "      <td>41.610810</td>\n",
       "      <td>21025.184000</td>\n",
       "    </tr>\n",
       "  </tbody>\n",
       "</table>\n",
       "</div>"
      ],
      "text/plain": [
       "   customer_age       balance\n",
       "0     40.174564    611.209233\n",
       "1     42.614494   5647.260959\n",
       "2     41.610810  21025.184000"
      ]
     },
     "execution_count": 80,
     "metadata": {},
     "output_type": "execute_result"
    }
   ],
   "source": [
    "xgb_test = X_test.groupby(final_model.labels_).mean()\n",
    "xgb_test"
   ]
  },
  {
   "cell_type": "code",
   "execution_count": 81,
   "id": "3a282003",
   "metadata": {},
   "outputs": [
    {
     "data": {
      "image/png": "[encoded data removed]",
      "text/plain": [
       "<Figure size 432x288 with 1 Axes>"
      ]
     },
     "metadata": {
      "needs_background": "light"
     },
     "output_type": "display_data"
    }
   ],
   "source": [
    "# Create side-by-side bar chart of `xgb`\n",
    "(xgb_test).plot(kind=\"bar\");"
   ]
  },
  {
   "cell_type": "code",
   "execution_count": null,
   "id": "874f7275",
   "metadata": {},
   "outputs": [],
   "source": []
  }
 ],
 "metadata": {
  "kernelspec": {
   "display_name": "Python 3 (ipykernel)",
   "language": "python",
   "name": "python3"
  },
  "language_info": {
   "codemirror_mode": {
    "name": "ipython",
    "version": 3
   },
   "file_extension": ".py",
   "mimetype": "text/x-python",
   "name": "python",
   "nbconvert_exporter": "python",
   "pygments_lexer": "ipython3",
   "version": "3.9.12"
  }
 },
 "nbformat": 4,
 "nbformat_minor": 5
}
